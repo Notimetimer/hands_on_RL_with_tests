{
 "cells": [
  {
   "cell_type": "markdown",
   "metadata": {},
   "source": [
    "### 不加修改的效果"
   ]
  },
  {
   "cell_type": "code",
   "execution_count": 1,
   "metadata": {},
   "outputs": [],
   "source": [
    "# import gym\n",
    "# env = gym.make('CartPole-v0')\n",
    "# env.reset()\n",
    "# for _ in range(100):\n",
    "#     env.render()\n",
    "#     env.step(env.action_space.sample()) # take a random action\n",
    "# env.close()"
   ]
  },
  {
   "cell_type": "markdown",
   "metadata": {},
   "source": [
    "QLearning中更新规则\n",
    "$$Q(s, a) \\leftarrow Q(s, a)+\\alpha\\left[r+\\gamma \\max _{a^{\\prime} \\in \\mathcal{A}} Q\\left(s^{\\prime}, a^{\\prime}\\right)-Q(s, a)\\right]$$\n",
    "为使时序差分残差$r+\\gamma \\max _{a^{\\prime} \\in \\mathcal{A}} Q\\left(s^{\\prime}, a^{\\prime}\\right)-Q(s, a)$逐渐变小构造均方误差形式的Q网络损失函数：\n",
    "$$\\omega^{*}=\\arg \\min _{\\omega} \\frac{1}{2 N} \\sum_{i=1}^{N}\\left[Q_{\\omega}\\left(s_{i}, a_{i}\\right)-\\left(r_{i}+\\gamma \\max _{a^{\\prime}} Q_{\\omega}\\left(s_{i}^{\\prime}, a^{\\prime}\\right)\\right)\\right]^{2}$$\n",
    "括号中前者用目标网络预测一段时间内最佳Q值，后者用“普通”Q网络逐步拟合前者"
   ]
  },
  {
   "cell_type": "markdown",
   "metadata": {},
   "source": [
    "### 测试一下神经网络的构建\n",
    "\n",
    "- 现代的神经网络写法中的输入层（可以理解为fc0）和输出层是没有激活函数的，激活函数只定义在隐层内\n",
    "- 每一层都对之前那一层输入的数据进行一次线性有偏加权平均，隐层在此基础上还用了一次激活函数"
   ]
  },
  {
   "cell_type": "code",
   "execution_count": 2,
   "metadata": {
    "code_folding": []
   },
   "outputs": [],
   "source": [
    "# import torch\n",
    "# import torch.nn.functional as F\n",
    "# class NN1(torch.nn.Module):\n",
    "#     ''' 只有一层隐藏层的Q网络 '''\n",
    "#     def __init__(self, state_dim, hidden_dim, action_dim):\n",
    "#         super(NN1, self).__init__()\n",
    "#         self.fc1 = torch.nn.Linear(state_dim, hidden_dim)\n",
    "#         self.fc2 = torch.nn.Linear(hidden_dim, action_dim)\n",
    "\n",
    "#     def forward(self, x):\n",
    "#         x = F.relu(self.fc1(x))  # 隐藏层使用ReLU激活函数\n",
    "#         return self.fc2(x)\n",
    "# class NN2(torch.nn.Module):\n",
    "#     ''' 两个隐藏层的Q网络 '''\n",
    "#     def __init__(self, state_dim, hidden_dim1, hidden_dim2, action_dim):\n",
    "#         super(NN2, self).__init__()\n",
    "#         self.fc1 = torch.nn.Linear(state_dim, hidden_dim1)  # 第一层全连接\n",
    "#         self.fc2 = torch.nn.Linear(hidden_dim1, hidden_dim2)  # 第二层全连接\n",
    "#         self.fc3 = torch.nn.Linear(hidden_dim2, action_dim)  # 输出层全连接\n",
    "\n",
    "#     def forward(self, x):\n",
    "#         x = F.relu(self.fc1(x))  # 第一隐藏层使用ReLU激活函数\n",
    "#         x = torch.sigmoid(self.fc2(x))  # 第二隐藏层使用Sigmoid激活函数\n",
    "#         return self.fc3(x)  # 输出层无激活函数\n",
    "# class NN3(torch.nn.Module):\n",
    "#     ''' 两个隐藏层的Q网络 '''\n",
    "#     def __init__(self, state_dim, hidden_dim1, hidden_dim2, action_dim):\n",
    "#         super(NN3, self).__init__()\n",
    "#         self.fc1 = torch.nn.Linear(state_dim, hidden_dim1)  # 第一层全连接\n",
    "#         self.fc2 = torch.nn.Linear(hidden_dim1, hidden_dim2)  # 第二层全连接\n",
    "#         self.fc3 = torch.nn.Linear(hidden_dim2, action_dim)  # 输出层全连接\n",
    "\n",
    "#     def forward(self, x):\n",
    "#         x = F.relu(self.fc1(x))  # 第一隐藏层使用ReLU激活函数\n",
    "#         x = F.sigmoid(self.fc2(x))  # 第二隐藏层使用Sigmoid激活函数\n",
    "#         return F.sigmoid(self.fc3(x))  # 输出层无激活函数"
   ]
  },
  {
   "cell_type": "markdown",
   "metadata": {},
   "source": [
    "### DQN实现"
   ]
  },
  {
   "cell_type": "code",
   "execution_count": 3,
   "metadata": {
    "ExecuteTime": {
     "end_time": "2024-05-14T17:39:54.300621Z",
     "start_time": "2024-05-14T17:39:54.275616Z"
    },
    "id": "OHoSU6uI-xIt"
   },
   "outputs": [
    {
     "name": "stdout",
     "output_type": "stream",
     "text": [
      "Connected\n"
     ]
    }
   ],
   "source": [
    "import random\n",
    "import gym\n",
    "import numpy as np\n",
    "import collections\n",
    "from tqdm import tqdm\n",
    "import torch\n",
    "import torch.nn.functional as F\n",
    "import matplotlib.pyplot as plt\n",
    "import rl_utils\n",
    "print('Connected')"
   ]
  },
  {
   "cell_type": "code",
   "execution_count": 4,
   "metadata": {
    "ExecuteTime": {
     "end_time": "2024-05-14T17:39:54.348632Z",
     "start_time": "2024-05-14T17:39:54.290618Z"
    },
    "id": "TsptTKz6-xIv"
   },
   "outputs": [],
   "source": [
    "class ReplayBuffer:\n",
    "    ''' 经验回放池 '''\n",
    "    def __init__(self, capacity):\n",
    "        self.buffer = collections.deque(maxlen=capacity)  # 队列,先进先出\n",
    "\n",
    "    def add(self, state, action, reward, next_state, done):  # 将数据加入buffer\n",
    "        self.buffer.append((state, action, reward, next_state, done)) # 为啥是两个括号叠着用？\n",
    "\n",
    "    def sample(self, batch_size):  # 从buffer中采样数据,数量为batch_size\n",
    "        transitions = random.sample(self.buffer, batch_size)\n",
    "#         \n",
    "        state, action, reward, next_state, done = zip(*transitions)\n",
    "        return np.array(state), action, reward, np.array(next_state), done\n",
    "\n",
    "    def size(self):  # 目前buffer中数据的数量\n",
    "        return len(self.buffer)"
   ]
  },
  {
   "cell_type": "code",
   "execution_count": 5,
   "metadata": {
    "ExecuteTime": {
     "end_time": "2024-05-14T17:39:54.353633Z",
     "start_time": "2024-05-14T17:39:54.302622Z"
    },
    "id": "_qO6koMR-xIw"
   },
   "outputs": [],
   "source": [
    "class Qnet(torch.nn.Module):\n",
    "    ''' 只有一层隐藏层的Q网络 '''\n",
    "    def __init__(self, state_dim, hidden_dim, action_dim):\n",
    "        super(Qnet, self).__init__()\n",
    "        self.fc1 = torch.nn.Linear(state_dim, hidden_dim)\n",
    "        self.fc2 = torch.nn.Linear(hidden_dim, action_dim)\n",
    "\n",
    "    def forward(self, x):\n",
    "#         x = F.relu(self.fc1(x))  # 隐藏层使用ReLU激活函数\n",
    "        x = F.leaky_relu(self.fc1(x)) # 隐藏层使用ReLU激活函数\n",
    "        return self.fc2(x)\n",
    "    '''\n",
    "    torch.nn.Linear仅仅是定义模型结构，并不绑定线性激活函数，激活函数由F.relu定义。\n",
    "    \n",
    "    nn.Module与nn.Functional（torch.nn.functional）的区别:\n",
    "    nn.Module是一个包装好的类，具体定义了一个网络层，可以维护状态和存储参数信息；\n",
    "    而nn.Functional仅仅提供了一个计算，不会维护状态信息和存储参数。\n",
    "    比如的ReLU等激活函数，dropout，pooling等没有训练参数，可以使用functional模块。\n",
    "    那么我们要为自定义的激活函数添加可学习的参数，该怎么办呢？\n",
    "    这还要回到前边提到的nn.Module与nn.Functional之间的关系。\n",
    "    我们知道继承于nn.Module的一个层是内含有可学习参数的，\n",
    "    如权重weights和偏置bias。但是具体的操作，如卷积等还是由nn.Functional来执行的。\n",
    "    nn.Module只是对nn.Functional进行了一层封装，使之可以维护状态和存储参数信息。\n",
    "    对于简单的没有可学习的参数的层，可以用nn.Functional模块中的操作,\n",
    "    也可以用 nn.Module中的操作，如nn.ReLU与F.relu等。\n",
    "    不同的是nn.ReLU作为网络的一个层，而F.relu仅仅作为一个函数运算。\n",
    "    ''' \n",
    "    "
   ]
  },
  {
   "cell_type": "code",
   "execution_count": 6,
   "metadata": {
    "ExecuteTime": {
     "end_time": "2024-05-14T17:39:54.354633Z",
     "start_time": "2024-05-14T17:39:54.326626Z"
    },
    "id": "wxZItCX4-xIw"
   },
   "outputs": [],
   "source": [
    "class DQN:\n",
    "    ''' DQN算法 '''\n",
    "    def __init__(self, state_dim, hidden_dim, action_dim, learning_rate, gamma,\n",
    "                 epsilon, target_update, device):\n",
    "        self.action_dim = action_dim\n",
    "        self.q_net = Qnet(state_dim, hidden_dim,\n",
    "                          self.action_dim).to(device)  # Q网络\n",
    "        # 目标网络\n",
    "        self.target_q_net = Qnet(state_dim, hidden_dim,\n",
    "                                 self.action_dim).to(device)\n",
    "        # 使用Adam优化器\n",
    "        self.optimizer = torch.optim.Adam(self.q_net.parameters(),\n",
    "                                          lr=learning_rate)\n",
    "        self.gamma = gamma  # 折扣因子\n",
    "        self.epsilon = epsilon  # epsilon-贪婪策略\n",
    "        self.target_update = target_update  # 目标网络更新频率\n",
    "        self.count = 0  # 计数器,记录更新次数\n",
    "        self.device = device\n",
    "\n",
    "    def take_action(self, state):  # epsilon-贪婪策略采取动作\n",
    "        if np.random.random() < self.epsilon:\n",
    "            action = np.random.randint(self.action_dim)\n",
    "        else:\n",
    "            state = torch.tensor([state], dtype=torch.float).to(self.device)\n",
    "            action = self.q_net(state).argmax().item()\n",
    "        return action\n",
    "\n",
    "    def update(self, transition_dict):\n",
    "        states = torch.tensor(transition_dict['states'],\n",
    "                              dtype=torch.float).to(self.device)\n",
    "        actions = torch.tensor(transition_dict['actions']).view(-1, 1).to(\n",
    "            self.device)\n",
    "        rewards = torch.tensor(transition_dict['rewards'],\n",
    "                               dtype=torch.float).view(-1, 1).to(self.device)\n",
    "        next_states = torch.tensor(transition_dict['next_states'],\n",
    "                                   dtype=torch.float).to(self.device)\n",
    "        dones = torch.tensor(transition_dict['dones'],\n",
    "                             dtype=torch.float).view(-1, 1).to(self.device)\n",
    "\n",
    "        q_values = self.q_net(states).gather(1, actions)  # Q值\n",
    "        # 下个状态的最大Q值\n",
    "        max_next_q_values = self.target_q_net(next_states).max(1)[0].view(\n",
    "            -1, 1)\n",
    "        q_targets = rewards + self.gamma * max_next_q_values * (1 - dones\n",
    "                                                                )  # TD误差目标\n",
    "        dqn_loss = torch.mean(F.mse_loss(q_values, q_targets))  # 均方误差损失函数\n",
    "        self.optimizer.zero_grad()  # PyTorch中默认梯度会累积,这里需要显式将梯度置为0\n",
    "        dqn_loss.backward()  # 反向传播更新参数\n",
    "        self.optimizer.step()\n",
    "\n",
    "        if self.count % self.target_update == 0:\n",
    "            self.target_q_net.load_state_dict(\n",
    "                self.q_net.state_dict())  # 更新目标网络\n",
    "        self.count += 1"
   ]
  },
  {
   "cell_type": "code",
   "execution_count": 15,
   "metadata": {
    "ExecuteTime": {
     "end_time": "2024-05-14T17:41:41.206910Z",
     "start_time": "2024-05-14T17:39:54.342630Z"
    },
    "colab": {
     "base_uri": "https://localhost:8080/"
    },
    "executionInfo": {
     "elapsed": 97226,
     "status": "ok",
     "timestamp": 1649955480772,
     "user": {
      "displayName": "Sam Lu",
      "userId": "15789059763790170725"
     },
     "user_tz": -480
    },
    "id": "acJ1letz-xIx",
    "outputId": "26487c0d-c504-44d6-eb15-5fb137b9488f",
    "pycharm": {
     "is_executing": true
    },
    "scrolled": true
   },
   "outputs": [
    {
     "name": "stderr",
     "output_type": "stream",
     "text": [
      "Iteration 0: 100%|██████████████████████████████████████████| 50/50 [00:00<00:00, 657.75it/s, episode=50, return=9.000]\n",
      "Iteration 1: 100%|█████████████████████████████████████████| 50/50 [00:01<00:00, 33.00it/s, episode=100, return=25.000]\n",
      "Iteration 2: 100%|████████████████████████████████████████| 50/50 [00:07<00:00,  6.47it/s, episode=150, return=127.000]\n",
      "Iteration 3:  16%|███████████▏                                                          | 8/50 [00:02<00:11,  3.78it/s]\n"
     ]
    },
    {
     "ename": "KeyboardInterrupt",
     "evalue": "",
     "output_type": "error",
     "traceback": [
      "\u001b[1;31m---------------------------------------------------------------------------\u001b[0m",
      "\u001b[1;31mKeyboardInterrupt\u001b[0m                         Traceback (most recent call last)",
      "Cell \u001b[1;32mIn[15], line 50\u001b[0m\n\u001b[0;32m     42\u001b[0m         b_s, b_a, b_r, b_ns, b_d \u001b[38;5;241m=\u001b[39m replay_buffer\u001b[38;5;241m.\u001b[39msample(batch_size)\n\u001b[0;32m     43\u001b[0m         transition_dict \u001b[38;5;241m=\u001b[39m {\n\u001b[0;32m     44\u001b[0m             \u001b[38;5;124m'\u001b[39m\u001b[38;5;124mstates\u001b[39m\u001b[38;5;124m'\u001b[39m: b_s,\n\u001b[0;32m     45\u001b[0m             \u001b[38;5;124m'\u001b[39m\u001b[38;5;124mactions\u001b[39m\u001b[38;5;124m'\u001b[39m: b_a,\n\u001b[1;32m   (...)\u001b[0m\n\u001b[0;32m     48\u001b[0m             \u001b[38;5;124m'\u001b[39m\u001b[38;5;124mdones\u001b[39m\u001b[38;5;124m'\u001b[39m: b_d\n\u001b[0;32m     49\u001b[0m         }\n\u001b[1;32m---> 50\u001b[0m         \u001b[43magent\u001b[49m\u001b[38;5;241;43m.\u001b[39;49m\u001b[43mupdate\u001b[49m\u001b[43m(\u001b[49m\u001b[43mtransition_dict\u001b[49m\u001b[43m)\u001b[49m\n\u001b[0;32m     51\u001b[0m return_list\u001b[38;5;241m.\u001b[39mappend(episode_return)\n\u001b[0;32m     52\u001b[0m \u001b[38;5;28;01mif\u001b[39;00m (i_episode \u001b[38;5;241m+\u001b[39m \u001b[38;5;241m1\u001b[39m) \u001b[38;5;241m%\u001b[39m \u001b[38;5;241m10\u001b[39m \u001b[38;5;241m==\u001b[39m \u001b[38;5;241m0\u001b[39m:\n",
      "Cell \u001b[1;32mIn[6], line 48\u001b[0m, in \u001b[0;36mDQN.update\u001b[1;34m(self, transition_dict)\u001b[0m\n\u001b[0;32m     46\u001b[0m dqn_loss \u001b[38;5;241m=\u001b[39m torch\u001b[38;5;241m.\u001b[39mmean(F\u001b[38;5;241m.\u001b[39mmse_loss(q_values, q_targets))  \u001b[38;5;66;03m# 均方误差损失函数\u001b[39;00m\n\u001b[0;32m     47\u001b[0m \u001b[38;5;28mself\u001b[39m\u001b[38;5;241m.\u001b[39moptimizer\u001b[38;5;241m.\u001b[39mzero_grad()  \u001b[38;5;66;03m# PyTorch中默认梯度会累积,这里需要显式将梯度置为0\u001b[39;00m\n\u001b[1;32m---> 48\u001b[0m \u001b[43mdqn_loss\u001b[49m\u001b[38;5;241;43m.\u001b[39;49m\u001b[43mbackward\u001b[49m\u001b[43m(\u001b[49m\u001b[43m)\u001b[49m  \u001b[38;5;66;03m# 反向传播更新参数\u001b[39;00m\n\u001b[0;32m     49\u001b[0m \u001b[38;5;28mself\u001b[39m\u001b[38;5;241m.\u001b[39moptimizer\u001b[38;5;241m.\u001b[39mstep()\n\u001b[0;32m     51\u001b[0m \u001b[38;5;28;01mif\u001b[39;00m \u001b[38;5;28mself\u001b[39m\u001b[38;5;241m.\u001b[39mcount \u001b[38;5;241m%\u001b[39m \u001b[38;5;28mself\u001b[39m\u001b[38;5;241m.\u001b[39mtarget_update \u001b[38;5;241m==\u001b[39m \u001b[38;5;241m0\u001b[39m:\n",
      "File \u001b[1;32m~\\miniconda3\\envs\\38\\lib\\site-packages\\torch\\_tensor.py:521\u001b[0m, in \u001b[0;36mTensor.backward\u001b[1;34m(self, gradient, retain_graph, create_graph, inputs)\u001b[0m\n\u001b[0;32m    511\u001b[0m \u001b[38;5;28;01mif\u001b[39;00m has_torch_function_unary(\u001b[38;5;28mself\u001b[39m):\n\u001b[0;32m    512\u001b[0m     \u001b[38;5;28;01mreturn\u001b[39;00m handle_torch_function(\n\u001b[0;32m    513\u001b[0m         Tensor\u001b[38;5;241m.\u001b[39mbackward,\n\u001b[0;32m    514\u001b[0m         (\u001b[38;5;28mself\u001b[39m,),\n\u001b[1;32m   (...)\u001b[0m\n\u001b[0;32m    519\u001b[0m         inputs\u001b[38;5;241m=\u001b[39minputs,\n\u001b[0;32m    520\u001b[0m     )\n\u001b[1;32m--> 521\u001b[0m \u001b[43mtorch\u001b[49m\u001b[38;5;241;43m.\u001b[39;49m\u001b[43mautograd\u001b[49m\u001b[38;5;241;43m.\u001b[39;49m\u001b[43mbackward\u001b[49m\u001b[43m(\u001b[49m\n\u001b[0;32m    522\u001b[0m \u001b[43m    \u001b[49m\u001b[38;5;28;43mself\u001b[39;49m\u001b[43m,\u001b[49m\u001b[43m \u001b[49m\u001b[43mgradient\u001b[49m\u001b[43m,\u001b[49m\u001b[43m \u001b[49m\u001b[43mretain_graph\u001b[49m\u001b[43m,\u001b[49m\u001b[43m \u001b[49m\u001b[43mcreate_graph\u001b[49m\u001b[43m,\u001b[49m\u001b[43m \u001b[49m\u001b[43minputs\u001b[49m\u001b[38;5;241;43m=\u001b[39;49m\u001b[43minputs\u001b[49m\n\u001b[0;32m    523\u001b[0m \u001b[43m\u001b[49m\u001b[43m)\u001b[49m\n",
      "File \u001b[1;32m~\\miniconda3\\envs\\38\\lib\\site-packages\\torch\\autograd\\__init__.py:289\u001b[0m, in \u001b[0;36mbackward\u001b[1;34m(tensors, grad_tensors, retain_graph, create_graph, grad_variables, inputs)\u001b[0m\n\u001b[0;32m    284\u001b[0m     retain_graph \u001b[38;5;241m=\u001b[39m create_graph\n\u001b[0;32m    286\u001b[0m \u001b[38;5;66;03m# The reason we repeat the same comment below is that\u001b[39;00m\n\u001b[0;32m    287\u001b[0m \u001b[38;5;66;03m# some Python versions print out the first line of a multi-line function\u001b[39;00m\n\u001b[0;32m    288\u001b[0m \u001b[38;5;66;03m# calls in the traceback and some print out the last line\u001b[39;00m\n\u001b[1;32m--> 289\u001b[0m \u001b[43m_engine_run_backward\u001b[49m\u001b[43m(\u001b[49m\n\u001b[0;32m    290\u001b[0m \u001b[43m    \u001b[49m\u001b[43mtensors\u001b[49m\u001b[43m,\u001b[49m\n\u001b[0;32m    291\u001b[0m \u001b[43m    \u001b[49m\u001b[43mgrad_tensors_\u001b[49m\u001b[43m,\u001b[49m\n\u001b[0;32m    292\u001b[0m \u001b[43m    \u001b[49m\u001b[43mretain_graph\u001b[49m\u001b[43m,\u001b[49m\n\u001b[0;32m    293\u001b[0m \u001b[43m    \u001b[49m\u001b[43mcreate_graph\u001b[49m\u001b[43m,\u001b[49m\n\u001b[0;32m    294\u001b[0m \u001b[43m    \u001b[49m\u001b[43minputs\u001b[49m\u001b[43m,\u001b[49m\n\u001b[0;32m    295\u001b[0m \u001b[43m    \u001b[49m\u001b[43mallow_unreachable\u001b[49m\u001b[38;5;241;43m=\u001b[39;49m\u001b[38;5;28;43;01mTrue\u001b[39;49;00m\u001b[43m,\u001b[49m\n\u001b[0;32m    296\u001b[0m \u001b[43m    \u001b[49m\u001b[43maccumulate_grad\u001b[49m\u001b[38;5;241;43m=\u001b[39;49m\u001b[38;5;28;43;01mTrue\u001b[39;49;00m\u001b[43m,\u001b[49m\n\u001b[0;32m    297\u001b[0m \u001b[43m\u001b[49m\u001b[43m)\u001b[49m\n",
      "File \u001b[1;32m~\\miniconda3\\envs\\38\\lib\\site-packages\\torch\\autograd\\graph.py:769\u001b[0m, in \u001b[0;36m_engine_run_backward\u001b[1;34m(t_outputs, *args, **kwargs)\u001b[0m\n\u001b[0;32m    767\u001b[0m     unregister_hooks \u001b[38;5;241m=\u001b[39m _register_logging_hooks_on_whole_graph(t_outputs)\n\u001b[0;32m    768\u001b[0m \u001b[38;5;28;01mtry\u001b[39;00m:\n\u001b[1;32m--> 769\u001b[0m     \u001b[38;5;28;01mreturn\u001b[39;00m \u001b[43mVariable\u001b[49m\u001b[38;5;241;43m.\u001b[39;49m\u001b[43m_execution_engine\u001b[49m\u001b[38;5;241;43m.\u001b[39;49m\u001b[43mrun_backward\u001b[49m\u001b[43m(\u001b[49m\u001b[43m  \u001b[49m\u001b[38;5;66;43;03m# Calls into the C++ engine to run the backward pass\u001b[39;49;00m\n\u001b[0;32m    770\u001b[0m \u001b[43m        \u001b[49m\u001b[43mt_outputs\u001b[49m\u001b[43m,\u001b[49m\u001b[43m \u001b[49m\u001b[38;5;241;43m*\u001b[39;49m\u001b[43margs\u001b[49m\u001b[43m,\u001b[49m\u001b[43m \u001b[49m\u001b[38;5;241;43m*\u001b[39;49m\u001b[38;5;241;43m*\u001b[39;49m\u001b[43mkwargs\u001b[49m\n\u001b[0;32m    771\u001b[0m \u001b[43m    \u001b[49m\u001b[43m)\u001b[49m  \u001b[38;5;66;03m# Calls into the C++ engine to run the backward pass\u001b[39;00m\n\u001b[0;32m    772\u001b[0m \u001b[38;5;28;01mfinally\u001b[39;00m:\n\u001b[0;32m    773\u001b[0m     \u001b[38;5;28;01mif\u001b[39;00m attach_logging_hooks:\n",
      "\u001b[1;31mKeyboardInterrupt\u001b[0m: "
     ]
    }
   ],
   "source": [
    "lr = 2e-3\n",
    "num_episodes = 500\n",
    "hidden_dim = 128\n",
    "gamma = 0.98\n",
    "epsilon = 0.01\n",
    "target_update = 10\n",
    "buffer_size = 10000\n",
    "minimal_size = 500\n",
    "batch_size = 64\n",
    "device = torch.device(\"cuda\") if torch.cuda.is_available() else torch.device(\n",
    "    \"cpu\")\n",
    "\n",
    "env_name = 'CartPole-v0'\n",
    "env = gym.make(env_name)\n",
    "random.seed(0)\n",
    "np.random.seed(0)\n",
    "env.seed(0)\n",
    "torch.manual_seed(0)\n",
    "replay_buffer = ReplayBuffer(buffer_size)\n",
    "state_dim = env.observation_space.shape[0]\n",
    "action_dim = env.action_space.n\n",
    "agent = DQN(state_dim, hidden_dim, action_dim, lr, gamma, epsilon,\n",
    "            target_update, device)\n",
    "\n",
    "return_list = []\n",
    "for i in range(10):\n",
    "    with tqdm(total=int(num_episodes / 10), desc='Iteration %d' % i) as pbar:\n",
    "        for i_episode in range(int(num_episodes / 10)):\n",
    "            episode_return = 0\n",
    "            state = env.reset()\n",
    "            done = False\n",
    "            while not done:\n",
    "                obs=state # test\n",
    "                action = agent.take_action(obs)\n",
    "                next_state, reward, done, _ = env.step(action)\n",
    "                obs=state # test\n",
    "                replay_buffer.add(obs, action, reward, next_state, done)\n",
    "                state = next_state\n",
    "                episode_return += reward\n",
    "                # 当buffer数据的数量超过一定值后,才进行Q网络训练\n",
    "                if replay_buffer.size() > minimal_size:\n",
    "                    b_s, b_a, b_r, b_ns, b_d = replay_buffer.sample(batch_size)\n",
    "                    transition_dict = {\n",
    "                        'states': b_s,\n",
    "                        'actions': b_a,\n",
    "                        'next_states': b_ns,\n",
    "                        'rewards': b_r,\n",
    "                        'dones': b_d\n",
    "                    }\n",
    "                    agent.update(transition_dict)\n",
    "            return_list.append(episode_return)\n",
    "            if (i_episode + 1) % 10 == 0:\n",
    "                pbar.set_postfix({\n",
    "                    'episode':\n",
    "                    '%d' % (num_episodes / 10 * i + i_episode + 1),\n",
    "                    'return':\n",
    "                    '%.3f' % np.mean(return_list[-10:])\n",
    "                })\n",
    "            pbar.update(1)\n"
   ]
  },
  {
   "cell_type": "code",
   "execution_count": 8,
   "metadata": {},
   "outputs": [
    {
     "data": {
      "image/png": "[encoded data removed]",
      "text/plain": [
       "<Figure size 640x480 with 1 Axes>"
      ]
     },
     "metadata": {},
     "output_type": "display_data"
    },
    {
     "data": {
      "image/png": "[encoded data removed]",
      "text/plain": [
       "<Figure size 640x480 with 1 Axes>"
      ]
     },
     "metadata": {},
     "output_type": "display_data"
    }
   ],
   "source": [
    "episodes_list = list(range(len(return_list)))\n",
    "plt.plot(episodes_list, return_list)\n",
    "plt.xlabel('Episodes')\n",
    "plt.ylabel('Returns')\n",
    "plt.title('DQN on {}'.format(env_name))\n",
    "plt.show()\n",
    "\n",
    "mv_return = rl_utils.moving_average(return_list, 9)\n",
    "plt.plot(episodes_list, mv_return)\n",
    "plt.xlabel('Episodes')\n",
    "plt.ylabel('Returns')\n",
    "plt.title('DQN on {}'.format(env_name))\n",
    "plt.show()"
   ]
  },
  {
   "cell_type": "markdown",
   "metadata": {},
   "source": [
    "### 保存整个网络并运行"
   ]
  },
  {
   "cell_type": "code",
   "execution_count": 9,
   "metadata": {},
   "outputs": [],
   "source": [
    "# # 保存模型步骤\n",
    "# torch.save(agent, 'DQN_whole.pth')  # 保存整个神经网络的模型结构以及参数用torch.save(model, path)，该方法不能换设备\n",
    "# # torch.save(agent, 'net.pkl')  # 同上\n",
    "# # 以下两行运行不动\n",
    "# # torch.save(agent.state_dict(), 'net_params.pth')  # 只保存模型参数   torch.save(model.state_dict(), path) # 保存模型的参数\n",
    "# # torch.save(agent.state_dict(), 'net_params.pkl')  # 同上\n",
    "\n",
    "# # 加载模型步骤\n",
    "# agent1 = torch.load('DQN_whole.pth')  # 加载整个神经网络的模型结构以及参数\n",
    "# # agent1 = torch.load('net.pkl')  # 同上\n",
    "# # agent1.load_state_dict(torch.load('net_params.pth')) # 仅加载参数\n",
    "# # agent1.load_state_dict(torch.load('net_params.pkl')) # 同上\n",
    "\n"
   ]
  },
  {
   "cell_type": "code",
   "execution_count": 10,
   "metadata": {
    "code_folding": []
   },
   "outputs": [],
   "source": [
    "# # 运行一个仿真回合\n",
    "# env = gym.make('CartPole-v0')\n",
    "# env.seed(0)\n",
    "# state = env.reset()\n",
    "# episode_return = 0 # 该回合的回报\n",
    "# # torch.manual_seed(0)\n",
    "# state_dim = env.observation_space.shape[0] # 直接从环境获得\n",
    "# action_dim = env.action_space.n # 直接从环境获得\n",
    "# Agent=agent1 # agent\n",
    "# for _ in range(100):\n",
    "#     env.render()\n",
    "#     # 在这写更新过程\n",
    "#     action = Agent.take_action(state) #### **** 采取动作  agent1\n",
    "#     next_state, reward, done, _ = env.step(action) # 与环境交互更新状态参数，每步新增1个reward\n",
    "#     replay_buffer.add(state, action, reward, next_state, done)\n",
    "#     state = next_state # 更新状态\n",
    "#     episode_return += reward\n",
    "#     return_list.append(episode_return)\n",
    "# env.close()\n"
   ]
  },
  {
   "cell_type": "markdown",
   "metadata": {},
   "source": [
    "### 保存网络参数并运行"
   ]
  },
  {
   "cell_type": "code",
   "execution_count": 11,
   "metadata": {},
   "outputs": [],
   "source": [
    "# qnet= Qnet(state_dim, hidden_dim, action_dim)\n",
    "# # 打印状态字典\n",
    "# for param_tensor in qnet.state_dict():\n",
    "#     print(param_tensor, \"\\t\", qnet.state_dict()[param_tensor].size())\n",
    "# # 保存Qnet参数\n",
    "# # agent.save()\n",
    "# torch.save(agent.q_net.state_dict(),'DQN_parameter.pth')  "
   ]
  },
  {
   "cell_type": "code",
   "execution_count": 12,
   "metadata": {
    "ExecuteTime": {
     "end_time": "2024-05-14T17:41:41.584257Z",
     "start_time": "2024-05-14T17:41:41.208910Z"
    },
    "colab": {
     "base_uri": "https://localhost:8080/",
     "height": 573
    },
    "executionInfo": {
     "elapsed": 698,
     "status": "ok",
     "timestamp": 1649955495697,
     "user": {
      "displayName": "Sam Lu",
      "userId": "15789059763790170725"
     },
     "user_tz": -480
    },
    "id": "AFiCxG4W-xIy",
    "outputId": "b5610f6f-8df9-4156-ecb9-e8cb2901133c"
   },
   "outputs": [],
   "source": [
    "# testmodel=Qnet(state_dim, hidden_dim, action_dim)\n",
    "# testmodel.load_state_dict(torch.load('DQN_parameter.pth'))\n",
    "# testmodel.eval()\n",
    "# # 运行一个仿真回合\n",
    "# env = gym.make('CartPole-v0')\n",
    "# env.seed(0)\n",
    "# state = env.reset()\n",
    "# episode_return = 0 # 该回合的回报\n",
    "# # torch.manual_seed(0)\n",
    "# state_dim = env.observation_space.shape[0] # 直接从环境获得\n",
    "# action_dim = env.action_space.n # 直接从环境获得\n",
    "# for _ in range(100):\n",
    "#     env.render()\n",
    "#     # 在这写更新过程\n",
    "#     state1 = torch.tensor([state], dtype=torch.float).to(device)\n",
    "#     action = testmodel(state1).argmax().item()\n",
    "# #     print(type(action)) ###########  查错\n",
    "#     next_state, _, done, _ = env.step(action) # 与环境交互更新状态参数，每步新增1个reward\n",
    "# #     replay_buffer.add(state, action, reward, next_state, done)\n",
    "#     state = next_state # 更新状态\n",
    "# #     episode_return += reward\n",
    "# #     return_list.append(episode_return)\n",
    "# env.close()"
   ]
  },
  {
   "cell_type": "code",
   "execution_count": 13,
   "metadata": {
    "ExecuteTime": {
     "end_time": "2024-05-14T17:41:41.612267Z",
     "start_time": "2024-05-14T17:41:41.587257Z"
    },
    "code_folding": [
     0
    ],
    "id": "CDk1DgrL-xIz"
   },
   "outputs": [],
   "source": [
    "# 加图像判别的，略\n",
    "class ConvolutionalQnet(torch.nn.Module):\n",
    "    ''' 加入卷积层的Q网络 '''\n",
    "    def __init__(self, action_dim, in_channels=4):\n",
    "        super(ConvolutionalQnet, self).__init__()\n",
    "        self.conv1 = torch.nn.Conv2d(in_channels, 32, kernel_size=8, stride=4)\n",
    "        self.conv2 = torch.nn.Conv2d(32, 64, kernel_size=4, stride=2)\n",
    "        self.conv3 = torch.nn.Conv2d(64, 64, kernel_size=3, stride=1)\n",
    "        self.fc4 = torch.nn.Linear(7 * 7 * 64, 512)\n",
    "        self.head = torch.nn.Linear(512, action_dim)\n",
    "\n",
    "    def forward(self, x):\n",
    "        x = x / 255\n",
    "        x = F.relu(self.conv1(x))\n",
    "        x = F.relu(self.conv2(x))\n",
    "        x = F.relu(self.conv3(x))\n",
    "        x = F.relu(self.fc4(x))\n",
    "        return self.head(x)"
   ]
  },
  {
   "cell_type": "markdown",
   "metadata": {},
   "source": [
    "显示图像删除!右侧空格：! [jupyter](./pictures/1.png)"
   ]
  },
  {
   "cell_type": "code",
   "execution_count": null,
   "metadata": {},
   "outputs": [],
   "source": []
  }
 ],
 "metadata": {
  "colab": {
   "collapsed_sections": [],
   "name": "第7章-DQN算法.ipynb",
   "provenance": []
  },
  "kernelspec": {
   "display_name": "Python 3 (ipykernel)",
   "language": "python",
   "name": "python3"
  },
  "language_info": {
   "codemirror_mode": {
    "name": "ipython",
    "version": 3
   },
   "file_extension": ".py",
   "mimetype": "text/x-python",
   "name": "python",
   "nbconvert_exporter": "python",
   "pygments_lexer": "ipython3",
   "version": "3.8.20"
  },
  "toc": {
   "base_numbering": 1,
   "nav_menu": {},
   "number_sections": true,
   "sideBar": true,
   "skip_h1_title": false,
   "title_cell": "Table of Contents",
   "title_sidebar": "Contents",
   "toc_cell": false,
   "toc_position": {
    "height": "calc(100% - 180px)",
    "left": "10px",
    "top": "150px",
    "width": "307.2px"
   },
   "toc_section_display": true,
   "toc_window_display": false
  },
  "varInspector": {
   "cols": {
    "lenName": 16,
    "lenType": 16,
    "lenVar": 40
   },
   "kernels_config": {
    "python": {
     "delete_cmd_postfix": "",
     "delete_cmd_prefix": "del ",
     "library": "var_list.py",
     "varRefreshCmd": "print(var_dic_list())"
    },
    "r": {
     "delete_cmd_postfix": ") ",
     "delete_cmd_prefix": "rm(",
     "library": "var_list.r",
     "varRefreshCmd": "cat(var_dic_list()) "
    }
   },
   "position": {
    "height": "212.775px",
    "left": "1125.85px",
    "right": "20px",
    "top": "191px",
    "width": "338.4px"
   },
   "types_to_exclude": [
    "module",
    "function",
    "builtin_function_or_method",
    "instance",
    "_Feature"
   ],
   "window_display": false
  }
 },
 "nbformat": 4,
 "nbformat_minor": 4
}
