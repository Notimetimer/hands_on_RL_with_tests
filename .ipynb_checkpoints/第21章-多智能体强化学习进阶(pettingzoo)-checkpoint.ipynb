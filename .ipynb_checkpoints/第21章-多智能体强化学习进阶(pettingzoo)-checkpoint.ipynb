{
 "cells": [
  {
   "cell_type": "code",
   "execution_count": 1,
   "id": "b637bed2e4b49784",
   "metadata": {
    "id": "b637bed2e4b49784",
    "pycharm": {
     "is_executing": true,
     "name": "#%%\n"
    }
   },
   "outputs": [],
   "source": [
    "# Inline Plotting\n",
    "# 实例代码用到的动作空间是离散的，所以用独热编码选择最优动作\n",
    "%matplotlib inline"
   ]
  },
  {
   "cell_type": "markdown",
   "id": "87a8f4955e1268aa",
   "metadata": {
    "id": "87a8f4955e1268aa",
    "pycharm": {
     "name": "#%% md\n"
    }
   },
   "source": [
    "# Multi-Agent Reinforcement Learning Experiment\n",
    "\n",
    "Note: This is an implement of the MADDPG algorithm based on the essay \"Multi-Agent Actor-Critic for Mixed Cooperative-Competitive Environments\"."
   ]
  },
  {
   "cell_type": "markdown",
   "id": "a835a163e1633f4f",
   "metadata": {
    "id": "a835a163e1633f4f",
    "pycharm": {
     "name": "#%% md\n"
    }
   },
   "source": [
    "## 0. Preparation"
   ]
  },
  {
   "cell_type": "markdown",
   "id": "73e48db0",
   "metadata": {
    "pycharm": {
     "name": "#%% md\n"
    }
   },
   "source": [
    "At the very beginning, let's import needed packages. We choose pettingzoo as our environment, installed by using `pip`."
   ]
  },
  {
   "cell_type": "code",
   "execution_count": 2,
   "id": "1ef0bfb943d38916",
   "metadata": {
    "colab": {
     "base_uri": "https://localhost:8080/"
    },
    "id": "1ef0bfb943d38916",
    "outputId": "af96fd11-148e-42d4-c5e3-913634c598dd",
    "pycharm": {
     "name": "#%%\n"
    }
   },
   "outputs": [],
   "source": [
    "# Install packages\n",
    "# %pip install pettingzoo[mpe]\n",
    "# %pip install openpyxl"
   ]
  },
  {
   "cell_type": "markdown",
   "id": "eaddc110",
   "metadata": {
    "pycharm": {
     "name": "#%% md\n"
    }
   },
   "source": [
    "We'll also use the following from PyTorch:\n",
    "\n",
    "- neural networks (torch.nn)\n",
    "- optimization (torch.optim)\n",
    "\n",
    "Matplotlib and Openpyxl are used for saving and visualizing our results."
   ]
  },
  {
   "cell_type": "code",
   "execution_count": 3,
   "id": "c85afac75c84429b",
   "metadata": {
    "id": "c85afac75c84429b",
    "pycharm": {
     "name": "#%%\n"
    }
   },
   "outputs": [],
   "source": [
    "# Import libraries\n",
    "import random\n",
    "from collections import namedtuple, deque\n",
    "\n",
    "import matplotlib\n",
    "import numpy as np\n",
    "import pandas as pd\n",
    "import torch\n",
    "import torch.nn as nn\n",
    "import torch.nn.functional as F\n",
    "import torch.optim as optim\n",
    "from matplotlib import pyplot as plt\n",
    "from pettingzoo.mpe import simple_adversary_v3\n",
    "from psutil import virtual_memory"
   ]
  },
  {
   "cell_type": "markdown",
   "id": "e6ffeaa2",
   "metadata": {
    "pycharm": {
     "name": "#%% md\n"
    }
   },
   "source": [
    " Now,let's check the system memory and  NVIDIA Information."
   ]
  },
  {
   "cell_type": "code",
   "execution_count": 4,
   "id": "8521bc707b30e9f",
   "metadata": {
    "colab": {
     "base_uri": "https://localhost:8080/"
    },
    "id": "8521bc707b30e9f",
    "outputId": "b5c522f4-b318-4f99-c02a-aef8441595b2",
    "pycharm": {
     "name": "#%%\n"
    }
   },
   "outputs": [],
   "source": [
    "# Run in the Colab\n",
    "run_in_colab = False\n",
    "if run_in_colab:\n",
    "    # Check NVIDIA information\n",
    "    gpu_info = !nvidia-smi\n",
    "    gpu_info = '\\n'.join(gpu_info)\n",
    "    if gpu_info.find('failed') >= 0:\n",
    "        print('Not connected to a GPU')\n",
    "    else:\n",
    "        print(gpu_info)\n",
    "    # Check memory information\n",
    "    ram_gb = virtual_memory().total / 1e9\n",
    "    print('Your runtime has {:.1f} gigabytes of available RAM\\n'.format(ram_gb))\n",
    "    if ram_gb < 20:\n",
    "        print('Not using a high-RAM runtime')\n",
    "    else:\n",
    "        print('You are using a high-RAM runtime!')"
   ]
  },
  {
   "cell_type": "code",
   "execution_count": 5,
   "id": "fb0b801653d795ca",
   "metadata": {
    "colab": {
     "base_uri": "https://localhost:8080/"
    },
    "id": "fb0b801653d795ca",
    "outputId": "9644f8de-be9f-4726-d840-e69cc39e862b",
    "pycharm": {
     "name": "#%%\n"
    }
   },
   "outputs": [
    {
     "data": {
      "text/plain": [
       "<matplotlib.pyplot._IonContext at 0x1eacf2dff28>"
      ]
     },
     "execution_count": 5,
     "metadata": {},
     "output_type": "execute_result"
    }
   ],
   "source": [
    "# Set up matplotlib\n",
    "is_ipython = 'inline' in matplotlib.get_backend()\n",
    "if is_ipython:\n",
    "    from IPython import display\n",
    "\n",
    "plt.ion()"
   ]
  },
  {
   "cell_type": "markdown",
   "id": "82447ad863fddf",
   "metadata": {
    "id": "82447ad863fddf",
    "pycharm": {
     "name": "#%% md\n"
    }
   },
   "source": [
    "## 1. Replay Buffer"
   ]
  },
  {
   "cell_type": "markdown",
   "id": "4e424ef7",
   "metadata": {
    "pycharm": {
     "name": "#%% md\n"
    }
   },
   "source": [
    "Replay Buffer is a method of data storage and retrieval used in Reinforcement Learning. Its principle is to store the agent's experience in the environment in a buffer, and then to randomly extract some of the data from the buffer during training for learning. This has two advantages: first, it improves the utilisation rate of the data and avoids the waste of discarding it only once each time; second, it breaks the temporal correlation of the data and reduces the instability of the training. We chose to implement it with a circular queue of fixed size, and when the queue is full, the oldest data is automatically discarded.\n",
    "\n",
    "Replay Buffer是一种用于强化学习的数据存储和检索方法。其原理是将智能体在环境中的经验存储在缓冲区中，然后在训练时从缓冲区中随机抽取部分数据进行学习。这样做有两个优点：第一，提高了数据的利用率，避免了每次只丢弃一次的浪费；第二，打破了数据的时间相关性，降低了训练的不稳定性。我们选择用固定大小的圆形队列来实现，当队列满时，自动丢弃最旧的数据。\n",
    "\n",
    "For this, we're going to need two classes:\n",
    "\n",
    "- `Transition` - a named tuple representing a single transition in our environment. It essentially maps (state, action) pairs to their (next_state, reward) result, with the state being the screen difference image as described later on.一个命名的元组代表我们环境中的单个变迁。它本质上是将(状态,动作)对映射到它们的( next _ state ,奖励)结果，状态是后面描述的屏幕差异图像。\n",
    "- `ReplayBuffer` - a cyclic buffer of bounded size that holds the transitions observed recently. It also implements a `.sample()` method for selecting a random batch of transitions for training. 一个有界大小的循环缓冲区，保存最近观察到的转变。它还实现了一种' . sample ( ) '方法，用于选择随机批次的迁移进行训练。"
   ]
  },
  {
   "cell_type": "code",
   "execution_count": 6,
   "id": "dd698432ed269d7b",
   "metadata": {
    "code_folding": [],
    "id": "dd698432ed269d7b",
    "pycharm": {
     "name": "#%%\n"
    }
   },
   "outputs": [],
   "source": [
    "\"\"\"Transition is a namedtuple used to store a transition.\n",
    "\n",
    "The structure of Transition looks like this:\n",
    "    (state, action, reward, next_state, done)\n",
    "\"\"\"\n",
    "Transition = namedtuple('Transition', ('state', 'action', 'reward', 'next_state', 'done'))\n",
    "\n",
    "\n",
    "class ReplayBuffer:\n",
    "    \"\"\"ReplayBuffer is a class used to achieve experience replay.\n",
    "\n",
    "    It's a buffer composed of a deque with a certain capacity. When the deque is full, it will automatically remove the oldest transition in the buffer.\n",
    "\n",
    "    Attributes:\n",
    "        _storage: The buffer to store the transitions.\n",
    "\n",
    "    Examples:\n",
    "        A replay buffer structure looks like below:\n",
    "        [\n",
    "            (state_1, action_1, reward_1, next_state_1, done_1),\n",
    "            (state_2, action_2, reward_2, next_state_2, done_2),\n",
    "            ...\n",
    "            (state_n, action_n, reward_n, next_state_n, done_n),\n",
    "        ]\n",
    "        Each tuple is a transition.\n",
    "    \"\"\"\n",
    "\n",
    "    def __init__(self, capacity=100_000):\n",
    "        \"\"\"Initial a replay buffer with capacity.\n",
    "\n",
    "        Args:\n",
    "            capacity: Max length of the buffer.\n",
    "        \"\"\"\n",
    "        self._storage = deque([], maxlen=capacity)\n",
    "\n",
    "    def add(self, state, action, reward, next_state, done):\n",
    "        \"\"\"Add a transition to the buffer.\n",
    "\n",
    "        Args:\n",
    "            state:          The state of the agents.\n",
    "            action:         The action of the agents.\n",
    "            reward:         The reward of the agents.\n",
    "            next_state:     The next state of the agents.\n",
    "            done:           The termination of the agents.\n",
    "\n",
    "        Returns: None\n",
    "\n",
    "        \"\"\"\n",
    "        transition = Transition(state, action, reward, next_state, done)\n",
    "        self._storage.append(transition)\n",
    "\n",
    "    def sample(self, batch_size):\n",
    "        \"\"\"Sample a batch of transitions from the buffer.\n",
    "\n",
    "        Args:\n",
    "            batch_size: The number of transitions that we want to sample from the buffer.\n",
    "\n",
    "        Returns: A batch of transitions.\n",
    "\n",
    "        Example:\n",
    "            Assuming that batch_size=3, we'll randomly sample 3 transitions from the buffer:\n",
    "                state_batch = (state_1, state_2, state_3)\n",
    "                action_batch = (action_1, action_2, action_3)\n",
    "                reward_batch = (reward_1, reward_2, reward_3)\n",
    "                next_state_batch = (next_state_1, next_state_2, next_state_3)\n",
    "                done_batch = (done_1, done_2, done_3)\n",
    "        \"\"\"\n",
    "        transitions = random.sample(self._storage, batch_size)\n",
    "        state_batch, action_batch, reward_batch, next_state_batch, done_batch = zip(*transitions)\n",
    "        return state_batch, action_batch, reward_batch, next_state_batch, done_batch\n",
    "\n",
    "    def __len__(self):\n",
    "        \"\"\"Return the length of the buffer.\"\"\"\n",
    "        return len(self._storage)"
   ]
  },
  {
   "cell_type": "markdown",
   "id": "1e015a5f56d7876f",
   "metadata": {
    "id": "1e015a5f56d7876f",
    "pycharm": {
     "name": "#%% md\n"
    }
   },
   "source": [
    "## 2. Simple Neural Network"
   ]
  },
  {
   "cell_type": "markdown",
   "id": "ed49e00c",
   "metadata": {
    "pycharm": {
     "name": "#%% md\n"
    }
   },
   "source": [
    "This code is a simple neural network class written in the PyTorch framework. It has the following characteristics:\n",
    "\n",
    "- It inherits the `nn.Module` class, which is the base class for all neural network models in PyTorch.继承了' nn。模块类，是PyTorch中所有神经网络模型的基类。\n",
    "- It defines three fully connected layers (`nn.Linear`), which are the input layer, the hidden layer and the output layer. Its parameters are input dimensions, output dimensions and hidden dimensions.定义3个全连接层( ' nn。Linear ' )，分别为输入层、隐含层和输出层。其参数为输入维度、输出维度和隐藏维度。\n",
    "- It defines the `forward` propagation process of the neural network in the forward method. It first passes the input data $x$ through the first layer and applies the ReLU activation function (`F.relu`) to it. It then passes the result through the second layer again and applies the `relu` activation function again. Finally, it passes the result through the third layer and returns the output data.在前向方法中定义了神经网络的\"前向\"传播过程。它首先将输入数据x通过第一层，并将ReLU激活函数( ' F.relu ' )应用到其中。然后将结果再次通过第二层，再次应用\" relu \"激活函数。最后，通过第三层传递结果并返回输出数据。\n",
    "\n",
    "The reasons we use three-layer neural networks are as follows:\n",
    "- Each linear layer introduces additional parameters and nonlinear activation functions, which increase the complexity and flexibility of the model. More linear layers mean that models can learn richer feature representations and better fit complex relationships between inputs and outputs 每个线性层引入了额外的参数和非线性激活函数，增加了模型的复杂性和灵活性。更多的线性层意味着模型可以学习到更丰富的特征表示，更好地拟合输入和输出之间的复杂关系\n",
    "- If the model is too complex and the amount of training data is relatively small, it is prone to overfitting problems. Too many linear layers increase the complexity of the model and make it easier to remember the details of the training sample, ignoring the ability to generalize to new data. 如果模型过于复杂，训练数据量相对较少，容易出现过拟合问题。过多的线性层增加了模型的复杂度，使其更容易记住训练样本的细节，忽略了对新数据的泛化能力。\n",
    "- DQN is based on Q-learning algorithm ，which usually adopts three-layer CNN structure.DQN基于Q - learning算法，通常采用三层CNN结构。"
   ]
  },
  {
   "cell_type": "code",
   "execution_count": 7,
   "id": "a5729db93ad71867",
   "metadata": {
    "id": "a5729db93ad71867",
    "pycharm": {
     "name": "#%%\n"
    }
   },
   "outputs": [],
   "source": [
    "class SimpleNet(nn.Module):\n",
    "    \"\"\"SimpleNet is a 3-layer simple neural network.\n",
    "\n",
    "    It's used to approximate the policy functions and the value functions.\n",
    "    \"\"\"\n",
    "\n",
    "    def __init__(self, input_dim, output_dim, hidden_dim):\n",
    "        \"\"\"Initial a simple network for an actor or a critic.\n",
    "\n",
    "        Args:\n",
    "            input_dim: The input dimension of the network.\n",
    "            output_dim: The output dimension of the network.\n",
    "            hidden_dim: The hidden layer dimension of the network.\n",
    "        \"\"\"\n",
    "        super(SimpleNet, self).__init__()\n",
    "        self.layer1 = nn.Linear(input_dim, hidden_dim)\n",
    "        self.layer2 = nn.Linear(hidden_dim, hidden_dim)\n",
    "        self.layer3 = nn.Linear(hidden_dim, output_dim)\n",
    "\n",
    "    def forward(self, x):\n",
    "        x = F.relu(self.layer1(x))\n",
    "        x = F.relu(self.layer2(x))\n",
    "        return self.layer3(x)"
   ]
  },
  {
   "cell_type": "markdown",
   "id": "cae7c08737dd548f",
   "metadata": {
    "id": "cae7c08737dd548f",
    "pycharm": {
     "name": "#%% md\n"
    }
   },
   "source": [
    "## 3. Gumbel Softmax Trick"
   ]
  },
  {
   "cell_type": "markdown",
   "id": "2c0b6c7b",
   "metadata": {
    "pycharm": {
     "name": "#%% md\n"
    }
   },
   "source": [
    "The action space of each agent in an MPE environment is discrete. The DDPG algorithm we use must itself make the agent's actions derivable for its strategy parameters, which is true for continuous action space, but not for discrete action space. However, this does not mean that the current task cannot be solved using the MADDPG algorithm, because we can use a method called Gumbel-Softmax to get an approximate sample of the discrete distribution. Below we briefly introduce its principles and provide the implementation code. MPE环境中每个智能体的动作空间是离散的。我们使用的DDPG算法本身必须使智能体的动作对其策略参数是可导的，这对于连续的动作空间是成立的，但对于离散的动作空间则不成立。然而，这并不意味着当前任务无法使用MADDPG算法求解，因为我们可以使用一种称为Gumbel - Softmax的方法来获得离散分布的近似样本。下面我们简要介绍其原理并提供实现代码。\n",
    "\n",
    "Suppose you have a random variable that follows a discrete distribution $K=(a_1,...,a_k)$. Then $a_i\\in[0,1]$ means $P(Z=i)$ and $\\sum_{i = 1}^{k}a_i=1$. If we want to sample according to this distribution $z\\sim K$, we can see that sampling this discrete distribution is not derivable. 假设有一个服从离散分布$K=(a_1,...,a_k)$的随机变量。那么$a_i\\in[0,1]$即$P(Z=i)$和$\\sum_{i = 1}^{k}a_i=1$。如果我们想按照这个分布$z\\sim K$进行抽样，可以看出抽样这个离散分布是不可导的。\n",
    "\n",
    "So is there a way to make discrete sampling controllable? The answer is heavy parameterisation, and we use the Gumbel-Softmax technique. Specifically, we introduce a heavy parameter factor $g_i$, which is a noise sampled from $Gumbel(0，1)$: $$g_i=-log(-logu),u\\sim Uniform(0,1)$$Gumbel Softmax samples can be written as:$$y_i=\\frac{exp((loga_i+g_i)/\\tau)}{\\sum_{j = 1}^{k}exp((loga_j+g_i)/\\tau)},i=1,...,k.$$ 那么有没有一种方法可以使离散采样可控呢?答案是重参数化，我们使用Gumbel - Softmax技术。具体来说，我们引入了一个重参数因子$g_i$，它是一个从$Gumbel(0,1)$采样的噪声：$$g_i=-log(-logu),u\\sim Uniform(0,1)$$Gumbel Softmax样本可以写成：$$y_i=\\frac{exp((loga_i+g_i)/\\tau)}{\\sum_{j = 1}^{k}exp((loga_j+g_i)/\\tau)},i=1,...,k.$$\n",
    "\n",
    "In this case, if the discrete value is calculated by $z=\\arg max_iy_i$, the discrete value is approximately equivalent to the value sampled by the discrete $z\\sim K$. Furthermore, the gradient for $a$ is naturally introduced into the sample result $y$. $\\tau>0$ is called the temperature parameter of the distribution, and by adjusting it one can control how similar the generated Gumbel-Softmax distribution is to the discrete distribution: the smaller $\\tau$, the more the resulting distribution tends to be the result $onehot(\\arg max_iloga_i+g_i)$; the larger $\\tau$, the more the resulting distribution tends to be uniformly distributed. 在这种情况下，如果用$z=\\arg max_iy_i$计算离散值，则离散值近似等价于用离散$z\\sim K$采样的值。此外，对a的梯度自然地引入到样本结果y中。$\\tau>0$称为分布的温度参数，通过调节$\\tau>0$可以控制生成的Gumbel - Softmax分布与离散分布的相似程度：$\\tau$越小，生成的分布越趋向于$onehot(\\arg max_iloga_i+g_i)$；$\\tau$越大，得到的分布越趋于均匀分布。\n",
    "\n",
    "Next, define some of the utility functions that need to be used, including functions related to Gumbel Softmax sampling, which allows DDPG to be applied to discrete action spaces. 接下来，定义一些需要使用的效用函数，包括与Gumbel Softmax采样相关的函数，这使得DDPG可以应用于离散的动作空间。"
   ]
  },
  {
   "cell_type": "code",
   "execution_count": 8,
   "id": "337f3cc479b8d87b",
   "metadata": {
    "id": "337f3cc479b8d87b",
    "pycharm": {
     "name": "#%%\n"
    }
   },
   "outputs": [],
   "source": [
    "def trans2onehot(logits, eps=0.01):\n",
    "    \"\"\"Transform the output of the actor network to a one-hot vector.\n",
    "\n",
    "    Args:\n",
    "        logits:     The output value of the actor network.\n",
    "        eps:        The epsilon parameter in the epsilon-greedy algorithm used to choose an action.\n",
    "\n",
    "    Returns: An action in one-hot vector form.\n",
    "\n",
    "    \"\"\"\n",
    "    # Generates a one-hot vector form of the action selected by the actor network.\n",
    "    best_action = (logits == logits.max(1, keepdim=True)[0]).float()\n",
    "    # Generate a one-hot vector form of a random action.\n",
    "    size, num_actions = logits.shape\n",
    "    random_index = np.random.choice(range(num_actions), size=size)\n",
    "    random_actions = torch.eye(num_actions)[[random_index]].to(logits.device)\n",
    "    # Select an action using the epsilon-greedy algorithm.\n",
    "    random_mask = torch.rand(size, device=logits.device) <= eps\n",
    "    selected_action = torch.where(random_mask.view(-1, 1), random_actions, best_action)\n",
    "    return selected_action\n",
    "\n",
    "\n",
    "def sample_gumbel(shape, eps=1e-20, tensor_type=torch.float32):\n",
    "    \"\"\"Sample a Gumbel noise from the Gumbel(0,1) distribution.\"\"\"\n",
    "    U = torch.rand(shape, dtype=tensor_type, requires_grad=False)\n",
    "    gumbel_noise = -torch.log(-torch.log(U + eps) + eps)\n",
    "    return gumbel_noise\n",
    "\n",
    "\n",
    "def gumbel_softmax_sample(logits, temperature):\n",
    "    \"\"\"Sample from the Gumbel-Softmax distribution.\"\"\"\n",
    "    gumbel_noise = sample_gumbel(logits.shape, tensor_type=logits.dtype).to(logits.device)\n",
    "    y = logits + gumbel_noise\n",
    "    return F.softmax(y / temperature, dim=1)\n",
    "\n",
    "\n",
    "def gumbel_softmax(logits, temperature=1.0):\n",
    "    \"\"\"Sample from Gumbel-Softmax distribution and discretize it.\n",
    "\n",
    "    By returning a one-hot vector of y_hard, but with a gradient of y, we can get both a discrete action interacting with the environment and a correct inverse gradient.\n",
    "    \"\"\"\n",
    "    y = gumbel_softmax_sample(logits, temperature)\n",
    "    y_hard = trans2onehot(y)\n",
    "    y = (y_hard.to(logits.device) - y).detach() + y\n",
    "    return y"
   ]
  },
  {
   "cell_type": "markdown",
   "id": "9432ad7b1133c07d",
   "metadata": {
    "id": "9432ad7b1133c07d",
    "pycharm": {
     "name": "#%% md\n"
    }
   },
   "source": [
    "## 4. DDPG"
   ]
  },
  {
   "cell_type": "markdown",
   "id": "9030e0f3",
   "metadata": {
    "pycharm": {
     "name": "#%% md\n"
    }
   },
   "source": [
    "Next we will use the deep deterministic policy gradient (DDPG) algorithm, which constructs a deterministic policy that uses gradient ascent to maximize values. DDPG is also an actor-critic algorithm. \n",
    "\n",
    "If the policy is deterministic, it can be denoted by $a=u_\\theta(s)$. Similar to the policy gradient theorem, we can derive the deterministic policy gradient theorem:$$\\nabla_{\\theta} J\\left(\\pi_{\\theta}\\right)=\\mathbb{E}_{s \\sim \\nu^{\\pi_{\\beta}}}\\left[\\left.\\nabla_{\\theta} \\mu_{\\theta}(s) \\nabla_{a} Q_{\\omega}^{\\mu}(s, a)\\right|_{a=\\mu_{\\theta}(s)}\\right]$$\n",
    "接下来我们将使用深度确定性策略梯度( DDPG )算法，该算法构造了一个确定性策略，使用梯度上升来最大化值。DDPG也是一种演员评论家算法。\n",
    "\n",
    "如果政策是确定性的，则可以用$a=u_\\theta(s)$表示。类似于政策梯度定理，我们可以推导出确定性的政策梯度定理：$$\\nabla_{\\theta} J\\left(\\pi_{\\theta}\\right)=\\mathbb{E}_{s \\sim \\nu^{\\pi_{\\beta}}}\\left[\\left.\\nabla_{\\theta} \\mu_{\\theta}(s) \\nabla_{a} Q_{\\omega}^{\\mu}(s, a)\\right|_{a=\\mu_{\\theta}(s)}\\right]$$\n",
    "\n",
    "where $\\pi _\\beta$ is the policy used to collect data. We can understand this theorem as follows: suppose there is already a function $Q$ given a state $s$. But since the action space is now infinite, it is not possible to find the action with the largest value of $Q$ by iterating over all actions, so we want to use the policy $u$ to find the action $a$ that maximises the value of $Q(s,a)$: $u(s)=\\arg max_aQ(s,a)$.\n",
    "\n",
    "To get $u$, we first use $Q$ to derive a derivative $\\nabla _\\theta Q(s,u_\\theta (s))$ of $u_\\theta$, which uses the chain rule of the gradient, first for $a$ and then for $\\theta$. The function $Q$ is then maximised by a gradient ascent to get the action with the largest $Q$ value.\n",
    "其中，$\\pi _\\beta$是用来收集数据的政策。我们可以这样理解这个定理：假设给定一个状态s，已经存在一个函数Q。但是由于动作空间现在是无限的，不可能通过迭代所有动作找到Q值最大的动作，所以我们想用策略u找到使$Q(s,a)$：$u(s)=\\arg max_aQ(s,a)$的值最大的动作a。\n",
    "为了得到u，我们首先利用Q推导出$u_\\theta$的一个导数$\\nabla _\\theta Q(s,u_\\theta (s))$，它利用梯度的链式规则，先求出α，再求出$\\theta$。然后通过梯度上升对函数Q进行最大化，得到具有最大Q值的动作。\n",
    "\n",
    "DDPG uses four neural networks, one each for Actor and Critic, and one each for a target network. In DDPG, Actors also need a target net, as the target net is also used to calculate the target value $Q$. The update of the target &Q& network in DDPG is slightly different from that in DQN: in DQN, the $Q$ network is replicated directly to the target $Q$ network at regular intervals; in DDPG, the update of the target $Q$ network uses a soft update method, i.e. the target $Q$ network is updated slowly and gradually approaches the $Q$ network, and its formula is$$w^-\\leftarrow \\tau w+(1-\\tau)w^-$$\n",
    "DDPG使用4个神经网络，Actor和Critic各1个，目标网络各1个。在DDPG中，Actors也需要一个目标网络，因为目标网络也用于计算目标值Q。DDPG中的目标& Q &网络的更新与DQN中的略有不同：在DQN中，Q网络是定期直接复制到目标Q网络的；在DDPG中，目标Q网络的更新采用软更新方式，即目标Q网络缓慢更新并逐渐逼近Q网络，其公式为$$w^- \\leftarrow \\tau w+(1- \\tau)w^- $$\n",
    "\n",
    "Usually $\\tau$ is a relatively small number, and when $\\tau=1$ it is consistent with how the DQN is updated. The target network $u$ also uses this soft update method.\n",
    "\n",
    "In addition, due to the problem of overestimating the $Q$ value of the function $Q$, DDPG uses the technology in Double DQN to update the network. However, because DDPG uses a deterministic strategy, its own exploration is still very limited. Remembering the DQN algorithm, its exploration is mainly generated by the behaviour of the greedy strategy. Also as an algorithm for offline strategies, DDPG introduces a random noise on the behavioural strategies to explore.\n",
    "通常$\\tau$是一个比较小的数，而当$\\tau=1$时它与DQN是如何更新的是一致的。目标网络u也采用这种软更新方式。\n",
    "此外，由于存在高估函数Q值的问题，DDPG采用双层深度Q网络中的技术更新网络。然而，由于DDPG采用的是确定性策略，其本身的探索仍然非常有限。记住DQN算法，它的探索主要是由贪心策略的行为产生的。同样作为离线策略的一种算法，DDPG引入了随机噪声对行为策略进行探索。\n",
    "\n",
    "Both the strategy network and the value network use a single hidden layer neural network. The output layer of the strategy network uses the tangent function $y=\\tanh x$ as the activation function, because the value domain of the tangent function is $[-1,1]$, which is convenient to scale to the range of actions acceptable to the environment. In DDPG, which deals with environments that interact with continuous actions, the input to the x-network is a vector of states and actions concatenated together, and the output of the x-network is a value representing the value of that state-action pair.\n",
    "策略网络和价值网络均采用单隐层神经网络。策略网络的输出层使用正切函数$y=\\tanh x$作为激活函数，因为正切函数的值域为$[- 1,1]$，便于扩展到环境可接受的动作范围。在处理与连续动作交互的环境的DDPG中，对桥接四端网络的输入是状态和动作串联在一起的向量，桥接四端网络的输出是表示该状态-动作对的值。\n",
    "\n",
    "When taking actions with a policy network, we add Gaussian noise to the actions for better exploration. In the original DDPG paper, the added noise corresponds to the Ornstein-Uhlenbeck (OU) stochastic process:$$\\Delta x_{t}=\\theta\\left(\\mu-x_{t-1}\\right)+\\sigma W$$\n",
    "\n",
    "where $u$ is the mean, $W$ is random noise following Brownian motion, and $\\theta$ and $\\sigma$ are scale parameters. It can be seen that $x(t-1)$ when deviating from the mean, the value of $x_t$ moves closer to the mean. the OU stochastic process is characterised by a linear negative feedback around the mean with an additional disturbance term.\n",
    "当使用策略网络采取行动时，我们将高斯噪声添加到行动中，以便更好地进行探索。在原始的DDPG论文中，加入的噪声对应于奥恩斯泰因-于伦贝克( OU )随机过程：$$\\Delta x_{t}=\\theta\\left(\\mu-x_{t- 1}\\right)+\\sigma W$$\n",
    "其中，u为均值，W为服从布朗运动的随机噪声，$\\theta$和$\\sigma$为尺度参数。可以看出，$x(t- 1)$在偏离均值时，$x_t$的值向均值靠拢。OU随机过程的特点是在均值附近有一个线性负反馈，并附加一个扰动项。"
   ]
  },
  {
   "cell_type": "code",
   "execution_count": 9,
   "id": "72c554e4380ea6fb",
   "metadata": {
    "code_folding": [],
    "id": "72c554e4380ea6fb",
    "pycharm": {
     "name": "#%%\n"
    }
   },
   "outputs": [],
   "source": [
    "class DDPG:\n",
    "    \"\"\"The DDPG Algorithm.\n",
    "\n",
    "    1. Each instance of DDPG corresponds an agent.\n",
    "    2. Each instance of DDPG consists of an actor (policy network) and a critic (value network).\n",
    "    3. Each instance of DDPG contains a set of target networks for its actor and critic (affected by the double DQN strategy).\n",
    "    4. Network update function is contained in the Center Controller class, the MADDPG class, so that we can achieve the Centralized Training and Decentralized Execution method easily.\n",
    "\n",
    "    Attributes:\n",
    "        actor:              The Actor (Policy Network).\n",
    "        target_actor:       The Target Actor (Target Policy Network).\n",
    "        critic:             The Critic (value Network).\n",
    "        target_critic:      The Target Critic (Target Value Network).\n",
    "        actor_optimizer:    The optimizer of Actor.\n",
    "        critic_optimizer:   The optimizer of Critic.\n",
    "    \"\"\"\n",
    "\n",
    "    def __init__(self, state_dim, action_dim, critic_dim, hidden_dim, actor_lr, critic_lr, device):\n",
    "        \"\"\"Initialize a DDPG instance for an agent.\n",
    "\n",
    "        Args:\n",
    "            state_dim:      The dimension of the state, which is also the input dimension of Actor and a part of Critics' input.\n",
    "            action_dim:     The dimension of the action, which is also a part of Critics' input.\n",
    "            critic_dim:     The dimension of the Critics' input (Critic Dimension = State Dimensions + Action Dimension).\n",
    "            hidden_dim:     The dimension of the hidden layer of the networks.\n",
    "            actor_lr:       The learning rate for the Actor.\n",
    "            critic_lr:      The learning rate for the Critic.\n",
    "            device:         The device to compute.\n",
    "        \"\"\"\n",
    "        # Set Actor with Target Network\n",
    "        self.actor = SimpleNet(state_dim, action_dim, hidden_dim).to(device)\n",
    "        self.target_actor = SimpleNet(state_dim, action_dim, hidden_dim).to(device)\n",
    "        # Set Critic with Target Network\n",
    "        self.critic = SimpleNet(critic_dim, 1, hidden_dim).to(device)\n",
    "        self.target_critic = SimpleNet(critic_dim, 1, hidden_dim).to(device)\n",
    "        # Load parameters from Actor and Critic to their target networks\n",
    "        self.target_actor.load_state_dict(self.actor.state_dict())\n",
    "        self.target_critic.load_state_dict(self.critic.state_dict())\n",
    "        # Set up optimizers\n",
    "        self.actor_optimizer = optim.Adam(self.actor.parameters(), lr=actor_lr)\n",
    "        self.critic_optimizer = optim.Adam(self.critic.parameters(), lr=critic_lr)\n",
    "\n",
    "    def take_action(self, state, explore=False):\n",
    "        \"\"\"Take action from the Actor (Policy Network).\n",
    "\n",
    "        1. State -> the Actor -> Action Value\n",
    "        2. Choose action according to the value of explore.\n",
    "            - explore == True: Choose an action based on the gumbel trick.\n",
    "            - explore == False: Choose the action from the Actor, and transform the value to a one-hot vector.\n",
    "\n",
    "        Args:\n",
    "            state:      The partial observation of the agent.\n",
    "            explore:    The strategy to choose action.\n",
    "\n",
    "        Returns: The action that the Actor has chosen.\n",
    "\n",
    "        \"\"\"\n",
    "        # Choose an action from actor network (deterministic policy network).\n",
    "        action = self.actor(state)\n",
    "        # Exploration and Exploitation\n",
    "        if explore:\n",
    "            action = gumbel_softmax(action)\n",
    "        else:\n",
    "            action = trans2onehot(action)\n",
    "        # TODO: Find out why the action need to be transferred to the CPU\n",
    "        # return action.detach().cpu().numpy()[0]\n",
    "        return action.detach().cpu().numpy()[0]\n",
    "\n",
    "    @staticmethod\n",
    "    def soft_update(net, target_net, tau):\n",
    "        \"\"\"Soft update function, which is used to update the parameters in the target network.\n",
    "\n",
    "        Args:\n",
    "            net:            The original network.\n",
    "            target_net:     The target network.\n",
    "            tau:            Soft update parameter.\n",
    "\n",
    "        Returns: None\n",
    "\n",
    "        \"\"\"\n",
    "        # Update target network's parameters using soft update strategy\n",
    "        for target_param, param in zip(target_net.parameters(), net.parameters()):\n",
    "            target_param.data.copy_(tau * param.data + (1.0 - tau) * target_param.data)"
   ]
  },
  {
   "cell_type": "markdown",
   "id": "26f6bd6a4a3305e3",
   "metadata": {
    "id": "26f6bd6a4a3305e3",
    "pycharm": {
     "name": "#%% md\n"
    }
   },
   "source": [
    "## 5. MADDPG"
   ]
  },
  {
   "cell_type": "markdown",
   "id": "83228c56",
   "metadata": {
    "pycharm": {
     "name": "#%% md\n"
    }
   },
   "source": [
    "The multi-agent DDPG algorithm literally means an algorithm that implements a DDPG for each agent. All agents share a centralised critic network that simultaneously guides each agent's actor network during the training process, and each agent's actor network acts completely independently, i.e. decentralised execution.多智能体DDPG算法的字面意思是指为每个智能体实现一个DDPG的算法。所有智能体共享一个中心化的评价网络，在训练过程中同时指导每个智能体的行动者网络，并且每个智能体的行动者网络完全独立地行动，即去中心化执行。\n",
    "\n",
    "The main detail of the MADDPG algorithm is that each agent is trained with the Actor-Critic method, but unlike the traditional single agent, the Critic part of each agent in MADDPG can obtain the strategy information of other agents. Specifically, if we consider a game with $N$ agents, each agent's policy parameter is $\\theta=\\lbrace \\theta_1,...,\\theta _N \\rbrace$, and $\\pi=\\lbrace \\pi_1,...,\\pi _N \\rbrace$ is the set of strategies for all agents, then we can write the policy gradient of each agent's expected return in the case of a random strategy:$$\\nabla_{\\theta_{i}} J\\left(\\theta_{i}\\right)=\\mathbb{E}_{s \\sim p^{\\mu}, a \\sim \\pi_{i}}\\left[\\nabla_{\\theta_{i}} \\log \\pi_{i}\\left(a_{i} \\mid o_{i}\\right) Q_{i}^{\\pi}\\left(\\mathbf{x}, a_{1}, \\ldots, a_{N}\\right)\\right]$$ MADDPG算法的主要细节是每个Agent都用Actor - Critic方法进行训练，但与传统的单个Agent不同，MADDPG中每个Agent的Critic部分可以获得其他Agent的策略信息。具体来说，如果我们考虑一个含有N个代理人的博弈，每个代理人的策略参数为$\\theta=\\lbrace \\theta_1,...,\\theta _N \\rbrace$，$\\pi=\\lbrace \\pi_1,...,\\pi _N \\rbrace$是所有代理人的策略集合，那么我们可以写出在随机策略的情况下每个代理人期望收益的策略梯度：$$\\nabla_{\\theta_{i}} J\\left(\\theta_{i}\\right)=\\mathbb{E}_{s \\sim p^{\\mu}, a \\sim \\pi_{i}}\\left[\\nabla_{\\theta_{i}} \\log \\pi_{i}\\left(a_{i} \\mid o_{i}\\right) Q_{i}^{\\pi}\\left(\\mathbf{x}, a_{1}, \\ldots, a_{N}\\right)\\right]$$\n",
    "\n",
    "$Q_i^\\pi=(\\mathbf{x},a_1,...,a_N)$ is a centralised action value function. Why is $Q_i$ a centralised action value function? In general, $\\mathbf{x}=(o_1,...,o_N)$ contains the observations of all agents, and $Q_i$ must also contain the actions of all agents at that moment, so the premise of $Q_i$ is that all agents must give their own observations and corresponding actions at the same time. $Q_i^\\pi=(\\mathbf{x},a_1,...,a_N)$是一个中心化的动作值函数。为什么$Q_i$是一个中心化的动作价值函数?一般而言，$\\mathbf{x}=(o_1,...,o_N)$包含所有智能体的观测值，$Q_i$也必须包含所有智能体在该时刻的动作，因此$Q_i$的前提是所有智能体必须同时给出自己的观测值和相应的动作。\n",
    "\n",
    "For a deterministic strategy, considering that there are now $N$ successive strategies $\\mu_{\\theta_{i}}$, we can get the gradient formula for DDPG:$$\\nabla_{\\theta_{i}} J\\left(\\theta_{i}\\right)=\\mathbb{E}_{s \\sim p^{\\mu}, a \\sim \\pi_{i}}\\left[\\nabla_{\\theta_{i}} \\log \\pi_{i}\\left(a_{i} \\mid o_{i}\\right) Q_{i}^{\\pi}\\left(\\mathbf{x}, a_{1}, \\ldots, a_{N}\\right)\\right]\\nabla_{\\theta_{i}} J\\left(\\mu_{i}\\right)=\\mathbb{E}_{\\mathbf{x} \\sim \\mathcal{D}}\\left[\\left.\\nabla_{\\theta_{i}} \\mu_{i}\\left(o_{i}\\right) \\nabla_{a_{i}} Q_{i}^{\\mu}\\left(\\mathbf{x}, a_{1}, \\ldots, a_{N}\\right)\\right|_{a_{i}=\\mu_{i}\\left(o_{i}\\right)}\\right]$$\n",
    "\n",
    "$D$ is the empirical playback pool we use to store data, and every piece of data it stores is $(\\mathbf{x},\\mathbf{x}',a_1,...,a_N,r_1,...,r_N)$. In MADDPG, the centralized action value function can be updated with the following loss function:$$\\mathcal{L}\\left(\\omega_{i}\\right)=\\mathbb{E}_{\\mathbf{x}, a, r, \\mathbf{x}^{\\prime}}\\left[\\left(Q_{i}^{\\mu}\\left(\\mathbf{x}, a_{1}, \\ldots, a_{N}\\right)-y\\right)^{2}\\right], \\quad y=r_{i}+\\left.\\gamma Q_{i}^{\\mu^{\\prime}}\\left(\\mathbf{x}^{\\prime}, a_{1}^{\\prime}, \\ldots, a_{N}^{\\prime}\\right)\\right|_{a_{j}^{\\prime}=\\mu_{j}^{\\prime}\\left(o_{j}\\right)}$$\n",
    "\n",
    "$\\mu^{\\prime}=\\left(\\mu_{\\theta_{1}}^{\\prime}, \\ldots, \\mu_{\\theta_{N}}^{\\prime}\\right)$ is the set of target policies used in the update value function, which have parameters for deferred updates.\n"
   ]
  },
  {
   "cell_type": "code",
   "execution_count": 10,
   "id": "4ff8104372bbaafe",
   "metadata": {
    "code_folding": [],
    "id": "4ff8104372bbaafe",
    "pycharm": {
     "name": "#%%\n"
    }
   },
   "outputs": [],
   "source": [
    "class MADDPG:\n",
    "    \"\"\"The Multi-Agent DDPG Algorithm.\n",
    "\n",
    "    1. The instance of MADDPG is the Center Controller in the algorithm.\n",
    "    2. The instance of MADDPG contains a list of DDPG instances, which are corresponded with the agents in the environment one by one.\n",
    "\n",
    "    Attributes:\n",
    "        agents:     A list of DDPG instances, which are corresponded with the agents in the environment one by one.\n",
    "        device:     The device to compute.\n",
    "        gamma:      The gamma parameter in TD target.\n",
    "        tau:        The tau parameter for soft update.\n",
    "        critic_criterion: The loss function for the Critic networks.\n",
    "    \"\"\"\n",
    "\n",
    "    def __init__(self, state_dims, action_dims, critic_dim, hidden_dim, actor_lr, critic_lr, device, gamma, tau):\n",
    "        \"\"\"Initialize a MADDPG instance as the Center Controller.\n",
    "\n",
    "        Args:\n",
    "            state_dims: A list of dimensions of each agent's observation.\n",
    "            action_dims: A list of dimensions of each agent's action.\n",
    "            critic_dim: The dimension of the Critic networks' input.\n",
    "            hidden_dim: The dimension of the networks' hidden layers.\n",
    "            actor_lr: The learning rate for the Actor.\n",
    "            critic_lr: The learning rate for the Critic.\n",
    "            device: The device to compute.\n",
    "            gamma: The gamma parameter in TD target.\n",
    "            tau: The tau parameter for soft update.\n",
    "        \"\"\"\n",
    "        # TODO: Should we use dict to combine the DDPG instance with agents?\n",
    "        self.agents = [\n",
    "            DDPG(state_dim, action_dim, critic_dim, hidden_dim, actor_lr, critic_lr, device)\n",
    "            for state_dim, action_dim in zip(state_dims, action_dims)\n",
    "        ]\n",
    "        self.device = device\n",
    "        self.gamma = gamma\n",
    "        self.tau = tau\n",
    "        self.critic_criterion = nn.MSELoss()\n",
    "\n",
    "    @property\n",
    "    def policies(self):\n",
    "        \"\"\"A list of Actors for the agents.\"\"\"\n",
    "        return [agent.actor for agent in self.agents]\n",
    "\n",
    "    @property\n",
    "    def target_policies(self):\n",
    "        \"\"\"A list of Target Actors for the agents.\"\"\"\n",
    "        return [agent.target_actor for agent in self.agents]\n",
    "\n",
    "    def take_action(self, states, explore):\n",
    "        \"\"\"Take actions from the Actors (Policy Networks).\n",
    "\n",
    "        Args:\n",
    "            states: A list of observations from all the agents.\n",
    "            explore: The strategy to choose action (Exploration or Exploitation).\n",
    "\n",
    "        Returns: A list of actions in one-hot vector form.\n",
    "\n",
    "        \"\"\"\n",
    "        states = [torch.tensor(np.array([state]), dtype=torch.float, device=self.device) for state in states]\n",
    "        return [agent.take_action(state, explore) for agent, state in zip(self.agents, states)]\n",
    "\n",
    "    def update(self, sample, agent_idx):\n",
    "        \"\"\"Update parameters for the agent whose index is agent_idx.\n",
    "\n",
    "        Args:\n",
    "            sample: A batch of transitions used to update all the parameters.\n",
    "            agent_idx: The index of the agent whose Actor and Critic would be updated in this function.\n",
    "\n",
    "        Returns: None\n",
    "\n",
    "        Process:\n",
    "            Parse Data from Sample to Observation, Action, Reward, Next Observation and Done Tag.\n",
    "            Set up Current Agent\n",
    "            Update Current Critic (Value Network) with TD Algorithm:\n",
    "                1. Initialize the Gradient to Zero.\n",
    "                2. Build a Tensor Contains All Target Actions Using Target Actor Networks and Next Observations.\n",
    "                3. Calculate Target Critic Value:\n",
    "                    - Combine Next Observation and Target Action in One To One Correspondence.\n",
    "                    - Calculate Target Critic Value (TD Target).\n",
    "                4. Calculate Critic Value:\n",
    "                    - Combine Observation and Action in One To One Correspondence.\n",
    "                    - Calculate Critic Value (TD Target).\n",
    "                5. Calculate Critic's Loss Using MSELoss Function\n",
    "                6. Backward Propagation.\n",
    "                7. Update Parameters with Gradient Descent.\n",
    "            Update Current Actor (Policy Network) with Deterministic Policy Gradient:\n",
    "                1. Initialize the Gradient to Zero.\n",
    "                2. Get Current Actors' Action in the Shape of One-Hot Vector.\n",
    "                    - Get Current Actor Network Output with Current Observation.\n",
    "                    - Transform the Output into a One-Hot Action Vector.\n",
    "                3. Build the Input of Current Actor's Value Function.\n",
    "                    - Build a tensor that contains all the actions.\n",
    "                    - Combine Observations and Actions in One To One Correspondence.\n",
    "                4. Calculate Actor's Loss Using Critic Network (Value Function) Output.\n",
    "                5. Backward Propagation.\n",
    "                6. Update Parameters with Gradient Descent.\n",
    "\n",
    "        TODO:\n",
    "        1. Why there is a term, \"(1 - dones[agent_idx].view(-1, 1))\", during calculation of TD target?\n",
    "            To take termination in to consideration (To be verified).\n",
    "        2. Why there is a term, \"(current_actor_action_value ** 2).mean() * 1e-3\", during calculation of Actor Loss?\n",
    "            To make the output of the trained Actor more stable and smooth with this regular term (To be verified).\n",
    "        \"\"\"\n",
    "        states, actions, rewards, next_states, dones = sample\n",
    "        current_agent = self.agents[agent_idx]\n",
    "        # Update Current Critic (Value Network) with TD Algorithm\n",
    "        current_agent.critic_optimizer.zero_grad()\n",
    "        # Here is the step to choose the actions from the actor network and we have two strategies.\n",
    "        # Option 1: Use the target network strategy.\n",
    "        target_action = [\n",
    "            trans2onehot(_target_policy(_next_obs))\n",
    "            for _target_policy, _next_obs in zip(self.target_policies, next_states)\n",
    "        ]\n",
    "        # Option 2: Use the double DQN strategy.\n",
    "        # target_action = [\n",
    "        #     # Choose actions from the original network!!!\n",
    "        #     trans2onehot(policy(_next_obs))\n",
    "        #     for policy, _next_obs in zip(self.policies, next_states)\n",
    "        # ]\n",
    "        target_critic_input = torch.cat((*next_states, *target_action), dim=1)\n",
    "        target_critic_value = (rewards[agent_idx].view(-1, 1) +\n",
    "                               self.gamma * current_agent.target_critic(target_critic_input) *\n",
    "                               (1 - dones[agent_idx].view(-1, 1)))\n",
    "        critic_input = torch.cat((*states, *actions), dim=1)\n",
    "        critic_value = current_agent.critic(critic_input)\n",
    "        critic_loss = self.critic_criterion(critic_value, target_critic_value.detach())\n",
    "        critic_loss.backward()\n",
    "        current_agent.critic_optimizer.step()\n",
    "        # Update Current Actor (Policy Network) with Deep Deterministic Policy Gradient\n",
    "        current_agent.actor_optimizer.zero_grad()\n",
    "        current_actor_action_value = current_agent.actor(states[agent_idx])\n",
    "        current_actor_action_onehot = gumbel_softmax(current_actor_action_value)\n",
    "        all_actor_actions = [\n",
    "            current_actor_action_onehot if i == agent_idx else trans2onehot(_policy(_state))\n",
    "            for i, (_policy, _state) in enumerate(zip(self.policies, states))\n",
    "        ]\n",
    "        current_critic_input = torch.cat((*states, *all_actor_actions), dim=1)\n",
    "        actor_loss = (-current_agent.critic(current_critic_input).mean() +\n",
    "                      (current_actor_action_value ** 2).mean() * 1e-3)\n",
    "        actor_loss.backward()\n",
    "        current_agent.actor_optimizer.step()\n",
    "\n",
    "    def update_all_targets_params(self):\n",
    "        \"\"\"Update all Target network's parameters using soft update method.\"\"\"\n",
    "        for agent in self.agents:\n",
    "            agent.soft_update(agent.actor, agent.target_actor, self.tau)\n",
    "            agent.soft_update(agent.critic, agent.target_critic, self.tau)"
   ]
  },
  {
   "cell_type": "markdown",
   "id": "3ec7c54ff4830fb8",
   "metadata": {
    "id": "3ec7c54ff4830fb8",
    "pycharm": {
     "name": "#%% md\n"
    }
   },
   "source": [
    "## 6. Evaluate Function"
   ]
  },
  {
   "cell_type": "markdown",
   "id": "48052d9b",
   "metadata": {
    "pycharm": {
     "name": "#%% md\n"
    }
   },
   "source": [
    "The function takes a MADDPG agent as input and evaluates its performance over a specified number of episodes and episode length."
   ]
  },
  {
   "cell_type": "code",
   "execution_count": 11,
   "id": "f14b583adb0e0113",
   "metadata": {
    "id": "f14b583adb0e0113",
    "pycharm": {
     "name": "#%%\n"
    }
   },
   "outputs": [],
   "source": [
    "def evaluate(num_agents, maddpg, num_episode=10, len_episode=25):\n",
    "    \"\"\"Evaluate the strategies for learning, and no exploration is undertaken at this time.\n",
    "\n",
    "    Args:\n",
    "        num_agents: The number of the agents.\n",
    "        maddpg: The Center Controller.\n",
    "        num_episode: The number of episodes.\n",
    "        len_episode: The length of each episode.\n",
    "\n",
    "    Returns: Returns list.\n",
    "\n",
    "    \"\"\"\n",
    "    env = simple_adversary_v3.parallel_env(N=num_agents, max_cycles=25, continuous_actions=False)\n",
    "    env.reset()\n",
    "    returns = np.zeros(env.max_num_agents)\n",
    "    # Create an array returns of zeros with a length equal to the number of agents in the environment.\n",
    "    # This array will store the cumulative returns for each agent.\n",
    "    for episode in range(num_episode):\n",
    "        states_dict, rewards_dict = env.reset()\n",
    "        states = [state for state in states_dict.values()]\n",
    "        for episode_step in range(len_episode):\n",
    "            actions = maddpg.take_action(states, explore=False)\n",
    "            # Take actions using the MADDPG agent (maddpg.take_action) based on the current states. \n",
    "            actions_SN = [np.argmax(onehot) for onehot in actions]\n",
    "            actions_dict = {env.agents[i]: actions_SN[i] for i in range(env.max_num_agents)}\n",
    "            next_states_dict, rewards_dict, terminations_dict, truncations_dict, _ = env.step(actions_dict)\n",
    "            # Take a step in the environment by passing the actions dictionary to env.step.  \n",
    "            rewards = [reward for reward in rewards_dict.values()]\n",
    "            next_states = [next_state for next_state in next_states_dict.values()]\n",
    "            states = next_states\n",
    "            rewards = np.array(rewards)\n",
    "            returns += rewards / num_episode\n",
    "    env.close()\n",
    "    return returns.tolist()"
   ]
  },
  {
   "cell_type": "markdown",
   "id": "25f288f40c5c2466",
   "metadata": {
    "id": "25f288f40c5c2466",
    "pycharm": {
     "name": "#%% md\n"
    }
   },
   "source": [
    "## 7. Auxiliary Function"
   ]
  },
  {
   "cell_type": "markdown",
   "id": "eee6c454",
   "metadata": {
    "pycharm": {
     "name": "#%% md\n"
    }
   },
   "source": [
    "The function rearranges the elements in the input list x and converts them into PyTorch tensors on the specified device. 该函数将输入列表x中的元素重新排列，并在指定设备上将其转换为PyTorch张量。"
   ]
  },
  {
   "cell_type": "code",
   "execution_count": 12,
   "id": "e3792d0073af4d80",
   "metadata": {
    "id": "e3792d0073af4d80",
    "pycharm": {
     "name": "#%%\n"
    }
   },
   "outputs": [],
   "source": [
    "def sample_rearrange(x, device):\n",
    "    \"\"\"Rearrange the transition in the sample.\"\"\"\n",
    "    rearranged = [[sub_x[i] for sub_x in x] for i in range(len(x[0]))]\n",
    "    return [torch.FloatTensor(np.vstack(attribute)).to(device) for attribute in rearranged]\n",
    "    # np.vstack is used to vertically stack the elements in each sublist before converting them to a tensor.\n",
    "    # The resulting tensors are then converted to the appropriate device (GPU)."
   ]
  },
  {
   "cell_type": "markdown",
   "id": "1e279ba1b492ebc3",
   "metadata": {
    "id": "1e279ba1b492ebc3",
    "pycharm": {
     "name": "#%% md\n"
    }
   },
   "source": [
    "## 8. Set up Parameters and Initialize Variables"
   ]
  },
  {
   "cell_type": "markdown",
   "id": "c9b4093d",
   "metadata": {
    "pycharm": {
     "name": "#%% md\n"
    }
   },
   "source": [
    "It is time to initialize the necessary components and parameters for training an MADDPG agent in a multi-agent environment using the specified settings."
   ]
  },
  {
   "cell_type": "code",
   "execution_count": 13,
   "id": "dab6c59ea86f99f6",
   "metadata": {
    "id": "dab6c59ea86f99f6",
    "pycharm": {
     "name": "#%%\n"
    }
   },
   "outputs": [],
   "source": [
    "# Set up Parameters\n",
    "NUM_EPISODES = 5000\n",
    "LEN_EPISODES = 25  # The maximum length of each episode\n",
    "BUFFER_SIZE = 100_000\n",
    "HIDDEN_DIM = 64  # denotes the dimension of the hidden layers in the actor and critic networks.\n",
    "ACTOR_LR = 1e-2\n",
    "CRITIC_LR = 1e-2\n",
    "GAMMA = 0.95  # determines the discount factor for future rewards.\n",
    "TAU = 1e-2  # sets the soft update coefficient for target network updates.\n",
    "BATCH_SIZE = 1024\n",
    "UPDATE_INTERVAL = 100  # determines the number of steps before performing an update on the networks.\n",
    "MINIMAL_SIZE = 4000  # is a minimum threshold for the replay buffer size before starting the training.\n",
    "# Initialize Environment\n",
    "env = simple_adversary_v3.parallel_env(N=2, max_cycles=25, continuous_actions=False)\n",
    "env.reset()\n",
    "# Initialize Replay Buffer\n",
    "buffer = ReplayBuffer(BUFFER_SIZE)  # stores experiences from the environment.\n",
    "# Initialize Device\n",
    "device = torch.device(\"cuda\" if torch.cuda.is_available() else \"cpu\")\n",
    "# Initialize Return List\n",
    "return_list = []\n",
    "# Initialize Total Step\n",
    "total_step = 0\n",
    "# Initialize MADDPG\n",
    "# 1. Get State and Action Dimensions from the Environment\n",
    "state_dims = [env.observation_space(env.agents[i]).shape[0] for i in range(env.num_agents)]\n",
    "action_dims = [env.action_space(env.agents[i]).n for i in range(env.num_agents)]\n",
    "critic_dim = sum(state_dims) + sum(action_dims)  # calculates the total dimension of the critic network's input\n",
    "# 2. Create Center Controller\n",
    "maddpg = MADDPG(state_dims, action_dims, critic_dim, HIDDEN_DIM, ACTOR_LR, CRITIC_LR, device, GAMMA, TAU)\n",
    "# maddpg is created as an instance of the MADDPG class using the specified dimensions, learning rates and other parameters."
   ]
  },
  {
   "cell_type": "markdown",
   "id": "2da4352adbb6fed",
   "metadata": {
    "id": "2da4352adbb6fed",
    "pycharm": {
     "name": "#%% md\n"
    }
   },
   "source": [
    "## 9. Train"
   ]
  },
  {
   "cell_type": "markdown",
   "id": "76b73794",
   "metadata": {
    "pycharm": {
     "name": "#%% md\n"
    }
   },
   "source": [
    "This code implements the training loop for the MADDPG agent, including taking actions, interacting with the environment, updating the networks, and periodically evaluating the agent's performance.\n",
    "- The take_action method is called on the MADDPG agent, with the argument explore=True. This means that the agent will add exploration noise to its action selection, allowing it to explore different actions instead of always selecting the same action deterministically.\n",
    "- The resulting actions are initially in a one-hot encoded format, representing the probability distribution over the possible actions for each agent.\n",
    "- By using numpy.argmax function, each one-hot encoded action is converted into a discrete action by selecting the index of the highest probability.\n",
    "\n",
    "该代码实现了MADDPG代理的训练循环，包括采取行动、与环境交互、更新网络和定期评估代理的性能。\n",
    " -在MADDPG Agent上调用take _ action方法，参数explore = True。这意味着智能体会在其动作选择中加入探索噪声，允许其探索不同的动作，而不是总是确定性地选择相同的动作。\n",
    " -产生的动作最初是以独热编码的形式出现的，代表了每个Agent在可能的动作上的概率分布。\n",
    " -利用numpy . argmax函数，通过选择概率最大的指标，将每个独热编码动作转换为离散动作。"
   ]
  },
  {
   "cell_type": "code",
   "execution_count": 14,
   "id": "edf02a977f035468",
   "metadata": {
    "colab": {
     "base_uri": "https://localhost:8080/"
    },
    "id": "edf02a977f035468",
    "outputId": "c2471308-a137-4560-ca01-b114df0c6315",
    "pycharm": {
     "name": "#%%\n"
    },
    "scrolled": true
   },
   "outputs": [
    {
     "name": "stdout",
     "output_type": "stream",
     "text": [
      "Episode: 100, [-31.203747216959638, 6.530676731656475, 6.530676731656475]\n",
      "Episode: 200, [-55.23450011494809, 10.619954416321896, 10.619954416321896]\n",
      "Episode: 300, [-57.67763900941242, 10.402926678363892, 10.402926678363892]\n",
      "Episode: 400, [-25.467122190954374, 6.952320489657769, 6.952320489657769]\n",
      "Episode: 500, [-25.411940917168728, 4.00215797798729, 4.00215797798729]\n",
      "Episode: 600, [-25.876940692610578, -10.735109582112317, -10.735109582112317]\n",
      "Episode: 700, [-20.715413147240813, -3.2210908586513, -3.2210908586513]\n",
      "Episode: 800, [-23.316051105557793, 2.197853734257218, 2.197853734257218]\n",
      "Episode: 900, [-22.18900804815811, 5.940932881428632, 5.940932881428632]\n",
      "Episode: 1000, [-23.572624146056064, 4.37474499119723, 4.37474499119723]\n",
      "Episode: 1100, [-20.292345055658984, 2.46480155760341, 2.46480155760341]\n",
      "Episode: 1200, [-20.921237302323178, 4.040273505044046, 4.040273505044046]\n",
      "Episode: 1300, [-22.50002385506226, 5.90893785661199, 5.90893785661199]\n",
      "Episode: 1400, [-22.86158451077527, 8.255357637685815, 8.255357637685815]\n",
      "Episode: 1500, [-20.101014307886846, 3.3896135762033923, 3.3896135762033923]\n",
      "Episode: 1600, [-20.259227436387622, 5.09046634929619, 5.09046634929619]\n",
      "Episode: 1700, [-18.90749116153028, 5.717125378406519, 5.717125378406519]\n",
      "Episode: 1800, [-21.8437434397838, 6.376614804443656, 6.376614804443656]\n",
      "Episode: 1900, [-21.220705646494938, 5.07620485066828, 5.07620485066828]\n",
      "Episode: 2000, [-20.77320477261982, 6.209205634681709, 6.209205634681709]\n",
      "Episode: 2100, [-18.891839085859527, 5.824993472604422, 5.824993472604422]\n",
      "Episode: 2200, [-18.828216255933796, 5.179834555993813, 5.179834555993813]\n",
      "Episode: 2300, [-20.11985158001841, 5.554051008207918, 5.554051008207918]\n",
      "Episode: 2400, [-20.976801483111895, 7.247182519856659, 7.247182519856659]\n",
      "Episode: 2500, [-18.566588026038296, 4.607962986494666, 4.607962986494666]\n",
      "Episode: 2600, [-17.38384143988713, 4.983074209453564, 4.983074209453564]\n",
      "Episode: 2700, [-18.09153394159464, 6.055581323605071, 6.055581323605071]\n",
      "Episode: 2800, [-17.50623545622759, 5.753281670766954, 5.753281670766954]\n",
      "Episode: 2900, [-17.656741124109256, 6.441819343483589, 6.441819343483589]\n",
      "Episode: 3000, [-15.192882054790894, 3.9908774029816745, 3.9908774029816745]\n",
      "Episode: 3100, [-17.116848086839127, 5.180637553842439, 5.180637553842439]\n",
      "Episode: 3200, [-14.628018628621314, 3.1198514476296553, 3.1198514476296553]\n",
      "Episode: 3300, [-15.767353649199336, 4.162160362524691, 4.162160362524691]\n",
      "Episode: 3400, [-14.169618770406414, 1.5075366206702194, 1.5075366206702194]\n",
      "Episode: 3500, [-15.223289254836377, 3.0362632160947265, 3.0362632160947265]\n",
      "Episode: 3600, [-14.09390012593766, 2.381837588366533, 2.381837588366533]\n",
      "Episode: 3700, [-15.570596448454678, 4.2816715908272425, 4.2816715908272425]\n",
      "Episode: 3800, [-15.287190974772864, 3.5889703518109815, 3.5889703518109815]\n",
      "Episode: 3900, [-13.501970665778382, 0.5907150216602993, 0.5907150216602993]\n",
      "Episode: 4000, [-14.183679138324337, 2.1337782935549936, 2.1337782935549936]\n",
      "Episode: 4100, [-15.040929990527728, 3.9312307879630417, 3.9312307879630417]\n",
      "Episode: 4200, [-14.279286450436881, 2.9213905556697357, 2.9213905556697357]\n",
      "Episode: 4300, [-15.289178734240787, 3.7300757122323525, 3.7300757122323525]\n",
      "Episode: 4400, [-15.364826813979787, 3.797156272267962, 3.797156272267962]\n",
      "Episode: 4500, [-14.256932202618014, 3.275703406430968, 3.275703406430968]\n",
      "Episode: 4600, [-14.829296610040709, 3.210178701511761, 3.210178701511761]\n",
      "Episode: 4700, [-14.809063510402897, 4.187770511309486, 4.187770511309486]\n",
      "Episode: 4800, [-14.794059168051882, 3.4038890216583724, 3.4038890216583724]\n",
      "Episode: 4900, [-15.331381389135851, 2.8132864006660014, 2.8132864006660014]\n",
      "Episode: 5000, [-15.214413606079058, 3.4514089641886265, 3.4514089641886265]\n"
     ]
    }
   ],
   "source": [
    "for episode in range(NUM_EPISODES):\n",
    "    # Reset the Environment\n",
    "    states_dict, _ = env.reset()\n",
    "    states = [state for state in states_dict.values()]\n",
    "    # Start a New Game\n",
    "    for episode_step in range(LEN_EPISODES):\n",
    "        # Initial States and Actions\n",
    "        actions = maddpg.take_action(states, explore=True)\n",
    "        actions_SN = [np.argmax(onehot) for onehot in actions]\n",
    "        actions_dict = {env.agents[i]: actions_SN[i] for i in range(env.max_num_agents)}\n",
    "        # Step\n",
    "        next_states_dict, rewards_dict, terminations_dict, truncations_dict, _ = env.step(actions_dict)\n",
    "        # Add to buffer\n",
    "        rewards = [reward for reward in rewards_dict.values()]\n",
    "        next_states = [next_state for next_state in next_states_dict.values()]\n",
    "        terminations = [termination for termination in terminations_dict.values()]\n",
    "        buffer.add(states, actions, rewards, next_states, terminations)\n",
    "        # Update States\n",
    "        states = next_states\n",
    "        # Count += 1\n",
    "        total_step += 1\n",
    "        # When the replay buffer reaches a certain size and the number of steps reaches the specified update interval\n",
    "        # 1. Sample from the replay buffer.\n",
    "        # 2. Update Actors and Critics.\n",
    "        # 3. Update Target networks' parameters.\n",
    "        if len(buffer) >= MINIMAL_SIZE and total_step % UPDATE_INTERVAL == 0:\n",
    "            sample = buffer.sample(BATCH_SIZE)\n",
    "            sample = [sample_rearrange(x, device) for x in sample]\n",
    "            # Update Actors and Critics\n",
    "            for agent_idx in range(env.max_num_agents):\n",
    "                maddpg.update(sample, agent_idx)\n",
    "            # Update Target Parameters\n",
    "            maddpg.update_all_targets_params()\n",
    "    # After every 100 rounds, use the evaluate function to evaluate the trained agents, get the reward list ep_returns, and add it to return_list.\n",
    "    if (episode + 1) % 100 == 0:\n",
    "        episodes_returns = evaluate(env.max_num_agents - 1, maddpg, num_episode=100)\n",
    "        return_list.append(episodes_returns)\n",
    "        print(f\"Episode: {episode + 1}, {episodes_returns}\")\n",
    "# Close the Environment\n",
    "env.close()\n",
    "return_array = np.array(return_list)"
   ]
  },
  {
   "cell_type": "markdown",
   "id": "d2c2e27aeb4cc35",
   "metadata": {
    "id": "d2c2e27aeb4cc35",
    "pycharm": {
     "name": "#%% md\n"
    }
   },
   "source": [
    "## 10. Plot"
   ]
  },
  {
   "cell_type": "markdown",
   "id": "846e3f8e",
   "metadata": {
    "pycharm": {
     "name": "#%% md\n"
    }
   },
   "source": [
    "It's time to save and visualize our results."
   ]
  },
  {
   "cell_type": "code",
   "execution_count": 15,
   "id": "e21c1cb0",
   "metadata": {
    "colab": {
     "base_uri": "https://localhost:8080/",
     "height": 487
    },
    "id": "e21c1cb0",
    "outputId": "014fa2ef-a880-4f8e-e42b-23b90ef6a38b",
    "pycharm": {
     "name": "#%%\n"
    },
    "scrolled": true
   },
   "outputs": [
    {
     "data": {
      "image/png": "[encoded data removed]",
      "text/plain": [
       "<Figure size 1000x500 with 1 Axes>"
      ]
     },
     "metadata": {},
     "output_type": "display_data"
    }
   ],
   "source": [
    "num_agents = return_array.shape[1]\n",
    "df = pd.DataFrame(return_array, columns=[f'agent_{i - 1}' if i > 0 else 'adversary_0' for i in range(num_agents)])\n",
    "df.to_excel('return_data.xlsx', index=False)\n",
    "\n",
    "plt.figure(figsize=(10, 5))\n",
    "plt.xlabel('Episodes')\n",
    "plt.ylabel('Return')\n",
    "plt.title('Return vs Episodes for each Agent')\n",
    "plt.grid(True)\n",
    "\n",
    "for agent in range(num_agents):\n",
    "    agent_returns = return_array[:, agent]\n",
    "    if agent == 0:\n",
    "        plt.plot(range(100, len(agent_returns) * 100 + 100, 100), return_array[:, 0], label=f'adversary_0')\n",
    "    else:\n",
    "        plt.plot(range(100, len(agent_returns) * 100 + 100, 100), agent_returns, label=f'agent_{agent - 1}')\n",
    "\n",
    "plt.legend()\n",
    "plt.savefig('return_plot.png')\n",
    "plt.show()"
   ]
  },
  {
   "cell_type": "markdown",
   "id": "d32c3705",
   "metadata": {},
   "source": [
    "## 11. 训练参数存档"
   ]
  },
  {
   "cell_type": "code",
   "execution_count": null,
   "id": "bbd6834c",
   "metadata": {},
   "outputs": [],
   "source": [
    "# 最好对着pycharm里面的变量视图查看\n",
    "torch.save(maddpg.agents[0].actor.state_dict(),\"maddpgzoo0.pth\")\n",
    "torch.save(maddpg.agents[1].actor.state_dict(),\"maddpgzoo1.pth\")\n",
    "torch.save(maddpg.agents[2].actor.state_dict(),\"maddpgzoo2.pth\")"
   ]
  },
  {
   "cell_type": "markdown",
   "id": "a3b9da35",
   "metadata": {
    "pycharm": {
     "name": "#%% md\n"
    }
   },
   "source": [
    "## 12. 可视化运行"
   ]
  },
  {
   "cell_type": "code",
   "execution_count": 16,
   "id": "7bb883a5",
   "metadata": {
    "pycharm": {
     "name": "#%%\n"
    }
   },
   "outputs": [],
   "source": [
    "import time\n",
    "env = simple_adversary_v3.parallel_env(N=2, max_cycles=25, continuous_actions=False, render_mode=\"human\" )\n",
    "# Reset the Environment\n",
    "states_dict, _ = env.reset()\n",
    "states = [state for state in states_dict.values()]\n",
    "# Start a New Game\n",
    "for episode_step in range(LEN_EPISODES):\n",
    "    # Initial States and Actions\n",
    "    actions = maddpg.take_action(states, explore=False)\n",
    "    actions_SN = [np.argmax(onehot) for onehot in actions]\n",
    "    actions_dict = {env.agents[i]: actions_SN[i] for i in range(env.max_num_agents)}\n",
    "    # Step\n",
    "    next_states_dict, rewards_dict, terminations_dict, truncations_dict, _ = env.step(actions_dict)\n",
    "    # Add to buffer\n",
    "    rewards = [reward for reward in rewards_dict.values()]\n",
    "    next_states = [next_state for next_state in next_states_dict.values()]\n",
    "    terminations = [termination for termination in terminations_dict.values()]\n",
    "    buffer.add(states, actions, rewards, next_states, terminations)\n",
    "    # Update States\n",
    "    states = next_states\n",
    "    time.sleep(0.08)\n",
    "# Close the Environment\n",
    "env.close()\n"
   ]
  },
  {
   "cell_type": "code",
   "execution_count": null,
   "id": "748424fb",
   "metadata": {
    "pycharm": {
     "name": "#%%\n"
    }
   },
   "outputs": [],
   "source": []
  },
  {
   "cell_type": "code",
   "execution_count": null,
   "id": "74ae20e6",
   "metadata": {
    "pycharm": {
     "name": "#%%\n"
    }
   },
   "outputs": [],
   "source": []
  }
 ],
 "metadata": {
  "accelerator": "GPU",
  "colab": {
   "gpuType": "V100",
   "provenance": []
  },
  "kernelspec": {
   "display_name": "Python 3 (ipykernel)",
   "language": "python",
   "name": "python3"
  },
  "language_info": {
   "codemirror_mode": {
    "name": "ipython",
    "version": 3
   },
   "file_extension": ".py",
   "mimetype": "text/x-python",
   "name": "python",
   "nbconvert_exporter": "python",
   "pygments_lexer": "ipython3",
   "version": "3.7.0"
  },
  "toc": {
   "base_numbering": 1,
   "nav_menu": {},
   "number_sections": false,
   "sideBar": true,
   "skip_h1_title": false,
   "title_cell": "Table of Contents",
   "title_sidebar": "Contents",
   "toc_cell": false,
   "toc_position": {
    "height": "calc(100% - 180px)",
    "left": "10px",
    "top": "150px",
    "width": "165px"
   },
   "toc_section_display": true,
   "toc_window_display": true
  },
  "varInspector": {
   "cols": {
    "lenName": 16,
    "lenType": 16,
    "lenVar": 40
   },
   "kernels_config": {
    "python": {
     "delete_cmd_postfix": "",
     "delete_cmd_prefix": "del ",
     "library": "var_list.py",
     "varRefreshCmd": "print(var_dic_list())"
    },
    "r": {
     "delete_cmd_postfix": ") ",
     "delete_cmd_prefix": "rm(",
     "library": "var_list.r",
     "varRefreshCmd": "cat(var_dic_list()) "
    }
   },
   "position": {
    "height": "144.45px",
    "left": "1183px",
    "right": "20px",
    "top": "7px",
    "width": "350px"
   },
   "types_to_exclude": [
    "module",
    "function",
    "builtin_function_or_method",
    "instance",
    "_Feature"
   ],
   "window_display": true
  }
 },
 "nbformat": 4,
 "nbformat_minor": 5
}
